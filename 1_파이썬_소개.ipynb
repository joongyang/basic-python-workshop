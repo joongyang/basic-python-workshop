{
 "cells": [
  {
   "cell_type": "markdown",
   "metadata": {},
   "source": [
    "# 파이썬 소개"
   ]
  },
  {
   "cell_type": "markdown",
   "metadata": {},
   "source": [
    "1. **통계분석, 머신 러닝, 딥 러닝을 위한 파이썬 기초** 워크샵을 개최하는 배경\n",
    "2. 파이썬 설치\n",
    "3. 통계분석, 머신 러닝, 딥 러닝에 필요한 파이썬 패키지 관리"
   ]
  },
  {
   "cell_type": "markdown",
   "metadata": {},
   "source": [
    "## 자료를 분석하기 위한 소프트웨어"
   ]
  },
  {
   "cell_type": "markdown",
   "metadata": {},
   "source": [
    "**자료를 분석하여 패턴 또는 지식을 찾는 방법들인 통계분석, 머신 러닝 그리고 딥 러닝**을 구현할 수 있게 해주는 자료분석 소프트웨어는 크게 두 종류로 분류할 수 있다.\n",
    "\n",
    "1. 상용 소프트웨어: BMDP, SPSS, SAS, MINITAB, Stat, Systat, S-plus, etc.\n",
    "2. 공개 소프트웨어: GNU Octave, R, Python etc.\n",
    "\n",
    "최근에는 공개 소프트웨어가 사용 소프트웨어를 압도하고 있으며 이런 추세는 앞으로 지속될 것으로 예상된다."
   ]
  },
  {
   "cell_type": "markdown",
   "metadata": {},
   "source": [
    "## 자료분석에 사용되는 도구의 최근 추세"
   ]
  },
  {
   "cell_type": "markdown",
   "metadata": {},
   "source": [
    "[가장 인기 있는 자료분석 소프트웨어 2017](http://makemeanalyst.com/most-popular-languages-for-data-science-and-analytics-2017/)\n",
    "\n",
    "1. 2016년 가장 인기 있는 자료분석 도구(KDnuggets Analytics/Data Science Survey 2016): R, Python, SQL, Excel, ...\n",
    "2. 2017년 가장 인기 있는 프로그래밍 언어(The 2017 Top Programming Languages – IEEE Spectrum): Python, C, Java, C++ ...\n",
    "3. 2017년 데이터 과학자가 가장 좋아하는 자료분석 언어(2017 StackOverflow Survey): Javascript, SQL, Python, Java, C#, ...\n",
    "4. [indeed.com](https://indeed.com)의 채용공고에서 요구하는 자료분석 기술: Python, R, Java, Javascript, C, C++ ...\n",
    "    \n",
    "최근 파이썬이 자료분석과 프로그래밍 분야에서 급부상하고 있다.\n",
    "\n",
    "[급부상하는 파이썬](https://jaxenter.com/tiobe-index-scripting-languages-138905.html)"
   ]
  },
  {
   "cell_type": "markdown",
   "metadata": {},
   "source": [
    "## 딥 러닝을 위한 공개 소프트웨어"
   ]
  },
  {
   "cell_type": "markdown",
   "metadata": {},
   "source": [
    "다음과 같은 딥 러닝 프레임워크가 잘 알려져 있다.\n",
    "\n",
    "1. TensorFlow: 구글 브레인팀이 만든 머신 러닝과 딥 러닝을 위한 소프트웨어 라이브러리로 2015년 공개되었으며 파이썬으로 작성되었다.\n",
    "2. Theano: 캐나다 몬트리올 대학의 딥 러닝 연구소에서 개발한 딥 러닝을 위한 파이썬 라이브러리.\n",
    "3. Caffe: 캘리포니아 버클리 대학교의 Berkeley Vision and Learning Center에서 개발한 딥 러닝 라이브러리로 C++로 작성되었으며 파이썬 API를 제공한다.\n",
    "4. Microsft Cognitive Toolkit(CNTK): C++와 Python으로 작성되었다.\n",
    "5. Keras: 파이썬 라이브러리\n",
    "6. Torch: Lua 기반 딥 러닝 라이브러리이지만 최근 파이썬으로 구현한 PyTorch가 인기를 얻고 있다.\n",
    "\n",
    "대부분의 딥 러닝 라이브러리는 파이썬 API를 제공한다."
   ]
  },
  {
   "cell_type": "markdown",
   "metadata": {},
   "source": [
    "## 자료분석 경쟁 참여자들의 분석 도구"
   ]
  },
  {
   "cell_type": "markdown",
   "metadata": {},
   "source": [
    "최근 자료분석 경쟁 사이트가 생기고 있으며 이들 사이트에서 경쟁에 참여하는 사람들의 동향을 살펴보는 것도 의미가 있다.\n",
    "다음 두 사이트가 가장 잘 알려진 사이트이다.\n",
    "\n",
    "1. [Kaggle](https://www.kaggle.com/): `Competitions`의 `kernels`를 보면 참여자들의 도구를 볼 수 있다.\n",
    "2. [DrivenData](https://www.drivendata.org/): `Competitions`의 하단 `Completed Cometitions`에서 위치한 종료한 경쟁의 `Leaderboard Result`를 보면 상위 순위를 차지한 사람들의 `Github`에 접근할 수 있다. 이들의 `Github`에서 이들이 사용하는 도구를 볼 수 있다."
   ]
  },
  {
   "cell_type": "markdown",
   "metadata": {},
   "source": [
    "## 강의자가 사용하는 분석 도구"
   ]
  },
  {
   "cell_type": "markdown",
   "metadata": {},
   "source": [
    "1. 자료분석 도구: SPSS ==> SAS ==> R ==> Python (2014년 이후)\n",
    "2. 프로그래밍 언어: Fortran ==> Visual Basic ==> C++ ==> Python\n",
    "\n",
    "파이썬을 사용하게 되면서 하나의 도구로 통합할 수 있었다."
   ]
  },
  {
   "cell_type": "markdown",
   "metadata": {},
   "source": [
    "## 파이썬"
   ]
  },
  {
   "cell_type": "markdown",
   "metadata": {},
   "source": [
    "**파이썬(Python)**은 2005년부터 2012년까지 구글, 2013년부터 지금까지 Dropbox에서 일하는 네델란드 출신으로 프로그래머 **귀도 반 로섬(Guido van Rossum, 1956~)**이 1991년에 발표한 **고급 프로그래밍 언어**이다.\n",
    "\n",
    "1. **플랫폼 독립**이며,\n",
    "2. **인터프리터(interpreter)** 언어이며,\n",
    "3. **객체지향 프로그래밍(object-oriented programming)**을 지원하며,\n",
    "4. **동적 타이핑(dynamically typed)**을 지원한다.\n",
    "\n",
    "파이썬이라는 이름은 귀도가 좋아하는 BBC 코미디 시리즈 *Monty Python's Flying Circus*에서 따온 것이다.\n",
    "(*Monty Python's Flying Circus*는 코미디 그룹 Monty Python이 제작했으며 1969년부터 1974년 사이에 방영되었다.)\n",
    "\n",
    "현재 파이썬은 파이썬 소프트웨어 재단이 관리하는 공개 소프트웨어이다."
   ]
  },
  {
   "cell_type": "markdown",
   "metadata": {},
   "source": [
    "Note: Python과 경쟁하고 있는 **R**은 **통계학자** **Ross Ihaka**와 **Robert Gentleman**이 1992년부터 개발하기 시작한 **통계분석과 고수준 그래프 작성을 위한 프로그래밍 언어**이다. 이전부터 존재하던 S 언어를 구현한 것으로 간주된다.\n",
    "최초의 stable beta version은 2000년에 배포되었다."
   ]
  },
  {
   "cell_type": "markdown",
   "metadata": {},
   "source": [
    "## 파이썬 로고"
   ]
  },
  {
   "cell_type": "markdown",
   "metadata": {},
   "source": [
    "![파이썬 공식 로고](https://www.python.org/static/community_logos/python-logo-master-v3-TM.png)"
   ]
  },
  {
   "cell_type": "markdown",
   "metadata": {},
   "source": [
    "## 파이썬 배포판"
   ]
  },
  {
   "cell_type": "markdown",
   "metadata": {},
   "source": [
    "1. [파이썬 공식 배포판](https://google.com)\n",
    "2. [과학기술용 배포판: Anaconda](https://anaconda.org/)"
   ]
  },
  {
   "cell_type": "markdown",
   "metadata": {},
   "source": [
    "## Anaconda 설치와 실행"
   ]
  },
  {
   "cell_type": "markdown",
   "metadata": {},
   "source": [
    "1. Anaconda download\n",
    "2. Anaconda 설치\n",
    "3. 파이썬 실행\n",
    "\n",
    "    1. 명령창 또는 Anaconda prompt 샐행\n",
    "    2. 디렉토리 변경\n",
    "    3. 대화형으로 파이썬 사용할 때의 명령: `python` 또는 `ipython`\n",
    "    4. spyder 통합개발환경(IDE)을 실행하는 명령: `spyder`\n",
    "    5. jupyter notebook 실행하는 명령: `jupyter notebook`"
   ]
  },
  {
   "cell_type": "markdown",
   "metadata": {},
   "source": [
    "## 통계분석, 머신 러닝, 딥 러닝을 위한 파이썬 패키지들"
   ]
  },
  {
   "cell_type": "markdown",
   "metadata": {},
   "source": [
    "패키지는 여러 개의 파이썬 파일(모듈)을 디렉토리를 이용한 계층 구조로  체계화한 것이다.\n",
    "모듈에는 상수, 함수, 클래스 등을 정의할 수 있다.\n",
    "\n",
    "통계분석, 머신 러닝, 딥 러닝을 위한 중요한 파이썬 패키지는 다음과 같다.\n",
    "\n",
    "1. [numpy](http://www.numpy.org/): 선형대수 패키지\n",
    "2. [scipy](https://www.scipy.org/): 과학연구 패키지\n",
    "3. [pandas](https://pandas.pydata.org/): 자료분석에 편리한 자료구조를 지원하는 패키지\n",
    "4. [statsmodels](http://www.statsmodels.org/stable/index.html): 통계분석 패키지\n",
    "5. [scikit-learn](http://scikit-learn.org/stable/): 머신 러닝 패키지\n",
    "6. [scikit-image](http://scikit-image.org/): 이미지 처리 패키지\n",
    "7. [opencv-python](https://pypi.python.org/pypi/opencv-python): 컴퓨터 비젼  패키지\n",
    "6. [nltk](http://www.nltk.org/), [gensim](https://radimrehurek.com/gensim/): 텍스트 처리 패키지\n",
    "7. [konlpy](http://konlpy-ko.readthedocs.io): 한국어 텍스트 처리 패키지\n",
    "8. [keras](https://keras.io/), [tensorflow](https://www.tensorflow.org/), [theano](http://deeplearning.net/software/theano/): 딥 러닝 패키지\n",
    "9. [matplotlib](https://matplotlib.org/), [bokeh](https://bokeh.pydata.org/), [seaborn](http://www.statsmodels.org/): 그래프 작성 패키지"
   ]
  },
  {
   "cell_type": "markdown",
   "metadata": {},
   "source": [
    "## Anaconda에서 패키지 관리"
   ]
  },
  {
   "cell_type": "markdown",
   "metadata": {},
   "source": [
    "Ananconda의 패키지 관리는 `conda` 명령으로 실행한다.\n",
    "설치된 패키지를 조회/갱신/삭제할 수 있으며 새로운 패키지를 설치할 수 있다.\n",
    "`conda` 명령으로 설치할 수 없는 패키지는 `pip` 명령으로 설치할 수 있다.\n",
    "\n",
    "```python\n",
    "C:\\Users\\joongyang> conda list\n",
    "C:\\Users\\joongyang> conda list 패키지이름\n",
    "C:\\Users\\joongyang> conda update 패키지이름\n",
    "C:\\Users\\joongyang> conda remove 패키지이름\n",
    "C:\\Users\\joongyang> conda install 패키지이름\n",
    "C:\\Users\\joongyang> pip install 패키지이름\n",
    "```"
   ]
  },
  {
   "cell_type": "markdown",
   "metadata": {},
   "source": [
    "`conda` 명령으로 모든 패키지를 한 번에 갱신할 수 있다.\n",
    "\n",
    "```python\n",
    "C:\\Users\\joongyang> conda update --all\n",
    "```"
   ]
  },
  {
   "cell_type": "markdown",
   "metadata": {},
   "source": [
    "## 연습문제\n",
    "\n",
    "1. 현재 사용하는 Anaconda에 설치된 conda 명령을 갱신하시오.\n",
    "2. 통계분석, 머신 러닝, 딥 러닝을 위한 패키지가 설치되었는지 확인하시오.\n",
    "3. 통계분석, 머신 러닝, 딥 러닝에 필요한 패키지 중에서 설치되지 않은 것이 있으면 설치하시오."
   ]
  }
 ],
 "metadata": {
  "kernelspec": {
   "display_name": "Python [default]",
   "language": "python",
   "name": "python3"
  },
  "language_info": {
   "codemirror_mode": {
    "name": "ipython",
    "version": 3
   },
   "file_extension": ".py",
   "mimetype": "text/x-python",
   "name": "python",
   "nbconvert_exporter": "python",
   "pygments_lexer": "ipython3",
   "version": "3.6.3"
  }
 },
 "nbformat": 4,
 "nbformat_minor": 2
}
