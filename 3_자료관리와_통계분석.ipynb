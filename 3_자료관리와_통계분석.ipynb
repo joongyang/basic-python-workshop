{
 "cells": [
  {
   "cell_type": "markdown",
   "metadata": {},
   "source": [
    "# 자료관리와 통계분석"
   ]
  },
  {
   "cell_type": "markdown",
   "metadata": {},
   "source": [
    "# 자료와 CSV 파일\n",
    "\n",
    "자료를 저장/공유하는 방법 중 하나는 CSV(comma separated values) 파일이다.\n",
    "앞에서 소개한 Kaggle, DrivenData와 같은 사이트에서 제공하는 자료도 대부분 CSV 파일이다.\n",
    "일반적으로 자료는 2차원 표로 개념화할 수 있는데, CSV 파일은 표의 행(row)을 줄(line)로 대응시킨 텍스트 파일이다.\n",
    "그리고 특정 행의 여러 값은 동일한 줄에 쉼표(빈칸 또는 탭)로 구분하여 기재한다."
   ]
  },
  {
   "cell_type": "markdown",
   "metadata": {},
   "source": [
    "CSV 파일이 텍스트 파일이므로 메모장과 같은 편집기(editor)만 있으면 자료를 입력한 CSV 파일을 만들 수 있다.\n",
    "가장 편리한 방법은 Excel과 같은 spreadsheet 프로그램을 사용하여 자료를 입력/수정한 다음 CSV 형식으로 저장하는 것이다."
   ]
  },
  {
   "cell_type": "markdown",
   "metadata": {},
   "source": [
    "## CSV 파일 읽기\n",
    "\n",
    "CSV 파일에 저장된 자료를 분석할 때는 이 자료를 읽어 2차원 표를 개념화한 `DataFrame` 객체로 만드는 것으로 시작하는 것이 좋다.\n",
    "`DataFrame` 객체로 만들면 기본적인 기술통계분석은 `DataFrame` 객체의 메소드로 수행할 수 있다."
   ]
  },
  {
   "cell_type": "markdown",
   "metadata": {},
   "source": [
    "CSV 파일로부터 `DataFrame` 객체를 만들 때는 `pandas` 패키지의 `read_csv()` 함수를 사용한다.\n",
    "`read_csv()` 함수를 호출할 때도 `sep`, `header` 매개변수에 **쉼표가 아닌 값 구분문자**, **열 이름 여부**를 전달할 수 있다."
   ]
  },
  {
   "cell_type": "markdown",
   "metadata": {},
   "source": [
    "패키지를 사용하려면 먼저 패키지를 `import`해야 한다.\n",
    "`pandas`는 다음과 같이 `import`하는 것이 관례이다.\n",
    "`as` 다음은 패키지에 대한 **별명**(alias)이다.\n",
    "패키지에 별명을 붙이지 않아도 되지만 그러면 패키지 이름을 사용해서 프로그램해야 한다."
   ]
  },
  {
   "cell_type": "code",
   "execution_count": 1,
   "metadata": {},
   "outputs": [],
   "source": [
    "import pandas as pd"
   ]
  },
  {
   "cell_type": "code",
   "execution_count": 2,
   "metadata": {
    "scrolled": true
   },
   "outputs": [],
   "source": [
    "import pandas as pd\n",
    "meta = pd.read_csv('metabolism.csv')\n",
    "# metabolism_data_from_tsv_with_header = pd.read_csv('metabolism.csv', sep='\\t', header=None)"
   ]
  },
  {
   "cell_type": "markdown",
   "metadata": {},
   "source": [
    "## 객체의 속성과 메소드\n",
    "\n",
    "객체는 자료와 함께 이 자료를 처리하는 기능도 가지고 있다.\n",
    "따라서 `DataFrame` 객체는 자신이 저장하고 있는 자료와 자료에 대한 정보 그리고 자리를 처리(분석)하는 기본적인 기능을 가지고 있다.\n",
    "이는 자료에 대한 정보를 추출해주거나 자료를 분석하는 함수를 별도로 만들거나 검색하지 않아도 된다는 것을 의미한다.\n",
    "따라서 일단 자료가 `DataFrame` 객체로 만들어지면 후속 작업은 상당히 간편해진다.\n",
    "(이 점이 절차적 프로그래밍과 유사한 R과 다른 점이다.)"
   ]
  },
  {
   "cell_type": "markdown",
   "metadata": {},
   "source": [
    "객체가 할 수 있는 일(계산, 연산)은 객체에 부속된 함수로 구현되는데 이를 **메소드(method)**라고 한다.\n",
    "객체가 보유하고 있는 정보는 객체에 부속된 변수에 저장되는데 이를 **속성(attribute)**이라고 한다.\n",
    "따라서 객체로 하여금 어떤 일을 하게 하려면 객체의 메소들를 호출하면 되고, 객체의 정보를 보려면 객체의 속성을 조회하면 된다."
   ]
  },
  {
   "cell_type": "markdown",
   "metadata": {},
   "source": [
    "객체가 가지고 있는 속성과 메소드는 다음과 같이 알아볼 수 있다."
   ]
  },
  {
   "cell_type": "code",
   "execution_count": 3,
   "metadata": {},
   "outputs": [
    {
     "name": "stdout",
     "output_type": "stream",
     "text": [
      "T, _AXIS_ALIASES, _AXIS_IALIASES, _AXIS_LEN, _AXIS_NAMES, _AXIS_NUMBERS, _AXIS_ORDERS, _AXIS_REVERSED, _AXIS_SLICEMAP, __abs__, __add__, __and__, __array__, __array_wrap__, __bool__, __bytes__, __class__, __contains__, __copy__, __deepcopy__, __delattr__, __delitem__, __dict__, __dir__, __div__, __doc__, __eq__, __finalize__, __floordiv__, __format__, __ge__, __getattr__, __getattribute__, __getitem__, __getstate__, __gt__, __hash__, __iadd__, __iand__, __ifloordiv__, __imod__, __imul__, __init__, __init_subclass__, __invert__, __ior__, __ipow__, __isub__, __iter__, __itruediv__, __ixor__, __le__, __len__, __lt__, __mod__, __module__, __mul__, __ne__, __neg__, __new__, __nonzero__, __or__, __pow__, __radd__, __rand__, __rdiv__, __reduce__, __reduce_ex__, __repr__, __rfloordiv__, __rmod__, __rmul__, __ror__, __round__, __rpow__, __rsub__, __rtruediv__, __rxor__, __setattr__, __setitem__, __setstate__, __sizeof__, __str__, __sub__, __subclasshook__, __truediv__, __unicode__, __weakref__, __xor__, _accessors, _add_numeric_operations, _add_series_only_operations, _add_series_or_dataframe_operations, _agg_by_level, _agg_doc, _aggregate, _aggregate_multiple_funcs, _align_frame, _align_series, _apply_broadcast, _apply_empty_result, _apply_raw, _apply_standard, _at, _box_col_values, _box_item_values, _builtin_table, _check_inplace_setting, _check_is_chained_assignment_possible, _check_percentile, _check_setitem_copy, _clear_item_cache, _clip_with_one_bound, _clip_with_scalar, _combine_const, _combine_frame, _combine_match_columns, _combine_match_index, _combine_series, _combine_series_infer, _compare_frame, _compare_frame_evaluate, _consolidate, _consolidate_inplace, _construct_axes_dict, _construct_axes_dict_for_slice, _construct_axes_dict_from, _construct_axes_from_arguments, _constructor, _constructor_expanddim, _constructor_sliced, _convert, _count_level, _create_indexer, _cython_table, _deprecations, _dir_additions, _dir_deletions, _drop_axis, _ensure_valid_index, _expand_axes, _flex_compare_frame, _from_arrays, _from_axes, _get_agg_axis, _get_axis, _get_axis_name, _get_axis_number, _get_axis_resolvers, _get_block_manager_axis, _get_bool_data, _get_cacher, _get_index_resolvers, _get_item_cache, _get_numeric_data, _get_valid_indices, _get_value, _get_values, _getitem_array, _getitem_column, _getitem_frame, _getitem_multilevel, _getitem_slice, _gotitem, _iat, _iget_item_cache, _iloc, _indexed_same, _info_axis, _info_axis_name, _info_axis_number, _info_repr, _init_dict, _init_mgr, _init_ndarray, _internal_names, _internal_names_set, _is_builtin_func, _is_cached, _is_cython_func, _is_datelike_mixed_type, _is_mixed_type, _is_numeric_mixed_type, _is_view, _ix, _ixs, _join_compat, _loc, _maybe_cache_changed, _maybe_update_cacher, _metadata, _needs_reindex_multi, _obj_with_exclusions, _protect_consolidate, _reduce, _reindex_axes, _reindex_axis, _reindex_columns, _reindex_index, _reindex_multi, _reindex_with_indexers, _repr_data_resource_, _repr_fits_horizontal_, _repr_fits_vertical_, _repr_html_, _repr_latex_, _reset_cache, _reset_cacher, _sanitize_column, _selected_obj, _selection, _selection_list, _selection_name, _series, _set_as_cached, _set_axis, _set_axis_name, _set_is_copy, _set_item, _set_value, _setitem_array, _setitem_frame, _setitem_slice, _setup_axes, _shallow_copy, _slice, _stat_axis, _stat_axis_name, _stat_axis_number, _take, _to_dict_of_blocks, _try_aggregate_string_function, _typ, _unpickle_frame_compat, _unpickle_matrix_compat, _update_inplace, _validate_dtype, _values, _where, _xs, abs, add, add_prefix, add_suffix, agg, aggregate, align, all, any, append, apply, applymap, as_matrix, asfreq, asof, assign, astype, at, at_time, axes, between_time, bfill, bool, boxplot, clip, clip_lower, clip_upper, columns, combine, combine_first, compound, copy, corr, corrwith, count, cov, cummax, cummin, cumprod, cumsum, describe, diff, div, divide, dot, drop, drop_duplicates, dropna, dtypes, duplicated, empty, eq, equals, eval, ewm, expanding, ffill, fillna, filter, first, first_valid_index, floordiv, from_dict, from_items, from_records, ftypes, ge, gender, get, get_dtype_counts, get_ftype_counts, get_values, groupby, gt, head, hist, iat, idxmax, idxmin, iloc, index, infer_objects, info, insert, interpolate, is_copy, isin, isna, isnull, items, iteritems, iterrows, itertuples, ix, join, keys, kurt, kurtosis, last, last_valid_index, le, loc, lookup, lt, mad, mask, max, mean, median, melt, memory_usage, merge, min, mod, mode, mul, multiply, ndim, ne, nlargest, notna, notnull, nsmallest, nunique, pct_change, pipe, pivot, pivot_table, plot, pop, pow, prod, product, quantile, query, radd, rank, rate, rdiv, reindex, reindex_axis, reindex_like, rename, rename_axis, reorder_levels, replace, resample, reset_index, rfloordiv, rmod, rmul, rolling, round, rpow, rsub, rtruediv, sample, select, select_dtypes, sem, set_axis, set_index, shape, shift, size, skew, slice_shift, sort_index, sort_values, squeeze, stack, std, style, sub, subtract, sum, swapaxes, swaplevel, tail, take, to_clipboard, to_csv, to_dense, to_dict, to_excel, to_feather, to_gbq, to_hdf, to_html, to_json, to_latex, to_msgpack, to_panel, to_parquet, to_period, to_pickle, to_records, to_sparse, to_sql, to_stata, to_string, to_timestamp, to_xarray, transform, transpose, truediv, truncate, tshift, tz_convert, tz_localize, unstack, update, values, var, weight, where, xs\n"
     ]
    }
   ],
   "source": [
    "print(', '.join(dir(meta)))"
   ]
  },
  {
   "cell_type": "markdown",
   "metadata": {},
   "source": [
    "`DataFrame` 객체에 저장된 자료에 대한 전반적인 정보는 `info()` 메소드로 알아볼 수 있다."
   ]
  },
  {
   "cell_type": "code",
   "execution_count": 4,
   "metadata": {},
   "outputs": [
    {
     "name": "stdout",
     "output_type": "stream",
     "text": [
      "<class 'pandas.core.frame.DataFrame'>\n",
      "RangeIndex: 19 entries, 0 to 18\n",
      "Data columns (total 3 columns):\n",
      "gender    19 non-null object\n",
      "rate      19 non-null int64\n",
      "weight    19 non-null float64\n",
      "dtypes: float64(1), int64(1), object(1)\n",
      "memory usage: 536.0+ bytes\n"
     ]
    }
   ],
   "source": [
    "meta.info()"
   ]
  },
  {
   "cell_type": "markdown",
   "metadata": {},
   "source": [
    "## 열 이름의 조회와 수정\n",
    "\n",
    "`DataFrame` 객체에 저장된 자료의 열 이름(변수 이름)을 보려면 `columns` 속성을 조회한다.\n",
    "`columns` 속성의 값을 변경하면 열 이름을 변경할 수 있다.\n",
    "\n",
    "열 이름은 통계학에서는 변수, 머신 러닝이나 딥 러닝에서는 feature라고 한다.\n",
    "따라서 이 용어들은 동의어로 사용할 수 있다."
   ]
  },
  {
   "cell_type": "code",
   "execution_count": 5,
   "metadata": {},
   "outputs": [
    {
     "name": "stdout",
     "output_type": "stream",
     "text": [
      "Index(['gender', 'rate', 'weight'], dtype='object')\n"
     ]
    }
   ],
   "source": [
    "print(meta.columns)"
   ]
  },
  {
   "cell_type": "code",
   "execution_count": 6,
   "metadata": {},
   "outputs": [
    {
     "name": "stdout",
     "output_type": "stream",
     "text": [
      "Index(['var1', 'var2', 'var3'], dtype='object')\n",
      "Index(['gender', 'rate', 'weight'], dtype='object')\n"
     ]
    }
   ],
   "source": [
    "old_names = meta.columns\n",
    "meta.columns = ['var1', 'var2', 'var3']\n",
    "print(meta.columns)\n",
    "meta.columns = old_names\n",
    "print(meta.columns)"
   ]
  },
  {
   "cell_type": "markdown",
   "metadata": {},
   "source": [
    "## 열 이름으로 특정 열 추출\n",
    "\n",
    "열 이름을 사용하면 자료에서 특정 열만 추출할 수 있다.\n",
    "열 이름으로 특정 열을 추출할 때도 객체의 속성을 알아볼 때와 같이 `DataFrame` 객체 이름 다음에 마침표를 찍고 이어서 열 이름을 기재한다.\n",
    "열 이름에 빈 칸이 포함되어 있을 때 사용하기 불편하다.\n",
    "이 때는 아래에 소개한 `[]` 연산자를 사용한다."
   ]
  },
  {
   "cell_type": "code",
   "execution_count": 7,
   "metadata": {},
   "outputs": [
    {
     "name": "stdout",
     "output_type": "stream",
     "text": [
      "0     M\n",
      "1     M\n",
      "2     F\n",
      "3     F\n",
      "4     F\n",
      "5     F\n",
      "6     M\n",
      "7     F\n",
      "8     F\n",
      "9     M\n",
      "10    F\n",
      "11    F\n",
      "12    M\n",
      "13    F\n",
      "14    F\n",
      "15    F\n",
      "16    F\n",
      "17    M\n",
      "18    M\n",
      "Name: gender, dtype: object\n"
     ]
    }
   ],
   "source": [
    "print(meta.gender)"
   ]
  },
  {
   "cell_type": "markdown",
   "metadata": {},
   "source": [
    "## 행과 열의 수 조회\n",
    "\n",
    "`DataFrame` 객체의 행과 열의 수를 알아보려면 `shape` 속성을 조회한다.\n",
    "이 속성에는 행과 열의 수 두 값이 (행의 수, 열의 수)와 같이 `()`로 감싸져 저장되어 있는데, 이것은 `shape` 속성이 순서쌍에 해당하는 파이썬의 튜플(tuple) 자료형(자료구조)임을 나타낸다.\n",
    "`[]` 연산자를 사용해서 튜플 객체에 저장된 값에 접근할 수 있다.\n",
    "`[]` 연산자에는 접근하고자 하는 값의 위치를 나타내는 인덱스(index)를 기재한다.\n",
    "파이썬의 인덱스는 0부터 시작한다."
   ]
  },
  {
   "cell_type": "code",
   "execution_count": 8,
   "metadata": {},
   "outputs": [
    {
     "data": {
      "text/plain": [
       "(19, 3)"
      ]
     },
     "execution_count": 8,
     "metadata": {},
     "output_type": "execute_result"
    }
   ],
   "source": [
    "meta.shape"
   ]
  },
  {
   "cell_type": "code",
   "execution_count": 9,
   "metadata": {},
   "outputs": [
    {
     "name": "stdout",
     "output_type": "stream",
     "text": [
      "19 3\n"
     ]
    }
   ],
   "source": [
    "nrow = meta.shape[0]\n",
    "ncol = meta.shape[1]\n",
    "print(nrow, ncol)"
   ]
  },
  {
   "cell_type": "markdown",
   "metadata": {},
   "source": [
    "## 결측치가 아닌 값의 수 조회\n",
    "\n",
    "각 열에서 **결측치**(missing value)가 아닌 값의 수를 알고 싶으면 `DataFrame` 객체의 `count()` 메소드를 호출하면 된다.\n",
    "파이썬에서 결측치는 `None`로 표시하는데 `count()` 메소드는 `None`이 아닌 값의 개수를 계산해준다."
   ]
  },
  {
   "cell_type": "code",
   "execution_count": 10,
   "metadata": {},
   "outputs": [
    {
     "data": {
      "text/plain": [
       "gender    19\n",
       "rate      19\n",
       "weight    19\n",
       "dtype: int64"
      ]
     },
     "execution_count": 10,
     "metadata": {},
     "output_type": "execute_result"
    }
   ],
   "source": [
    "meta.count()"
   ]
  },
  {
   "cell_type": "code",
   "execution_count": 11,
   "metadata": {},
   "outputs": [
    {
     "data": {
      "text/plain": [
       "19"
      ]
     },
     "execution_count": 11,
     "metadata": {},
     "output_type": "execute_result"
    }
   ],
   "source": [
    "meta.gender.count()"
   ]
  },
  {
   "cell_type": "markdown",
   "metadata": {},
   "source": [
    "## 부분적인 자료 조회\n",
    "\n",
    "`DataFrame` 객체에 저장된 자료의 규모가 크면 자료를 출력하는 것도 상당히 시간이 걸린다.\n",
    "따라서 `DataFrame` 객체에 저장된 자료의 일부분만 보는 방법이 필요하다.\n",
    "`DataFrame` 객체의 `head()` 메소드와 `tail()` 메소드는 저장된 자료의 첫 몇 행과 마지막 몇 행만 출력해주는 메소드이다.\n",
    "이 두 메소드를 호출할 때는 출력하고자 하는 행의 수를 인자로 줄 수 있다."
   ]
  },
  {
   "cell_type": "code",
   "execution_count": 12,
   "metadata": {},
   "outputs": [
    {
     "name": "stdout",
     "output_type": "stream",
     "text": [
      "  gender  rate  weight\n",
      "0      M  1792    62.0\n",
      "1      M  1666    62.9\n",
      "2      F   995    36.1\n"
     ]
    }
   ],
   "source": [
    "print(meta.head(3))"
   ]
  },
  {
   "cell_type": "code",
   "execution_count": 13,
   "metadata": {},
   "outputs": [
    {
     "name": "stdout",
     "output_type": "stream",
     "text": [
      "   gender  rate  weight\n",
      "14      F  1052    34.5\n",
      "15      F  1347    51.1\n",
      "16      F  1204    41.2\n",
      "17      M  1867    51.9\n",
      "18      M  1439    46.9\n"
     ]
    }
   ],
   "source": [
    "print(meta.tail(5))"
   ]
  },
  {
   "cell_type": "markdown",
   "metadata": {},
   "source": [
    "다음은 특정 열 첫 5개의 값를 출력하는 예이다."
   ]
  },
  {
   "cell_type": "code",
   "execution_count": 14,
   "metadata": {},
   "outputs": [
    {
     "data": {
      "text/plain": [
       "0    M\n",
       "1    M\n",
       "2    F\n",
       "3    F\n",
       "4    F\n",
       "Name: gender, dtype: object"
      ]
     },
     "execution_count": 14,
     "metadata": {},
     "output_type": "execute_result"
    }
   ],
   "source": [
    "meta.gender.head(5)"
   ]
  },
  {
   "cell_type": "markdown",
   "metadata": {},
   "source": [
    "## 여러 열을 추출\n",
    "\n",
    "`DataFrame` 객체에서 특정 열을 추출하는 또 다른 방법은 `[]` 연산자에 추출하고자 하는 열 이름을 문자열로 주는 것이다. \n",
    "여러 개의 열을 추출할 때는 이 방법을 사용해야 하며, 추출하고자 하는 열의 이름을 `[]`에 감싸서 `[]` 연산자에 인자로 전달해야 한다.\n",
    "추출한 결과도 `DataFrame` 객체이며 다른 이름으로 저장할 수도 있다."
   ]
  },
  {
   "cell_type": "code",
   "execution_count": 15,
   "metadata": {},
   "outputs": [
    {
     "name": "stdout",
     "output_type": "stream",
     "text": [
      "0    62.0\n",
      "1    62.9\n",
      "2    36.1\n",
      "3    54.6\n",
      "4    48.5\n",
      "Name: weight, dtype: float64\n",
      "   rate gender\n",
      "0  1792      M\n",
      "1  1666      M\n",
      "2   995      F\n",
      "3  1425      F\n",
      "4  1396      F\n"
     ]
    }
   ],
   "source": [
    "print(meta['weight'].head(5))\n",
    "print(meta[['rate', 'gender']].head())"
   ]
  },
  {
   "cell_type": "code",
   "execution_count": 16,
   "metadata": {},
   "outputs": [
    {
     "name": "stdout",
     "output_type": "stream",
     "text": [
      "<class 'pandas.core.frame.DataFrame'>\n",
      "RangeIndex: 19 entries, 0 to 18\n",
      "Data columns (total 2 columns):\n",
      "rate      19 non-null int64\n",
      "gender    19 non-null object\n",
      "dtypes: int64(1), object(1)\n",
      "memory usage: 384.0+ bytes\n",
      "None\n",
      "(19, 2)\n",
      "Index(['rate', 'gender'], dtype='object')\n"
     ]
    }
   ],
   "source": [
    "meta_gender = meta[['rate', 'gender']]\n",
    "print(meta_gender.info())\n",
    "print(meta_gender.shape)\n",
    "print(meta_gender.columns)"
   ]
  },
  {
   "cell_type": "markdown",
   "metadata": {},
   "source": [
    "## 자료의 조회와 수정\n",
    "\n",
    "`DataFrame` 객체의 `values` 속성을 이용하면 자료 전체를 `numpy`에서 정의한 배열 `ndarray` 자료형으로 접근할 수 있다.\n",
    "`ndarray` 자료형은 **값을 쉼표로 구분하고 `[]`로 감싼** 리스트(list)의 리스트로 표현한다.\n",
    "(`[]` 연산자와 리스트 자료구조를 나타내는 `[]` 괄호를 구별하기 바란다.)\n",
    "리스트에 저장된 값은 `[]` 연산자로 접근할 수 있으므로 `[]` 연산자를 이중으로 사용하면 배열의 원소에 접근할 수 있다.\n",
    "첫 번째 `[]` 연산자에는 행 번호를 두 번째 `[]` 연산자에는 열 번호를 주면 된다."
   ]
  },
  {
   "cell_type": "markdown",
   "metadata": {},
   "source": [
    "대부분의 머신 러닝, 딥 러닝 패키지들은 `numpy`를 기반으로 하고 있고, 때로는 `DataFrame` 객체가 아닌 `numpy.ndarray` 객체로 자료를 주어야 한다.\n",
    "이때 `values` 속성을 효율적으로 사용할 수 있다."
   ]
  },
  {
   "cell_type": "code",
   "execution_count": 17,
   "metadata": {},
   "outputs": [
    {
     "name": "stdout",
     "output_type": "stream",
     "text": [
      "[['M' 1792 62.0]\n",
      " ['M' 1666 62.9]\n",
      " ['F' 995 36.1]\n",
      " ['F' 1425 54.6]\n",
      " ['F' 1396 48.5]\n",
      " ['F' 1418 42.0]\n",
      " ['M' 1362 47.4]\n",
      " ['F' 1502 50.6]\n",
      " ['F' 1256 42.0]\n",
      " ['M' 1614 48.7]\n",
      " ['F' 1189 40.3]\n",
      " ['F' 913 33.1]\n",
      " ['M' 1460 51.9]\n",
      " ['F' 1124 42.4]\n",
      " ['F' 1052 34.5]\n",
      " ['F' 1347 51.1]\n",
      " ['F' 1204 41.2]\n",
      " ['M' 1867 51.9]\n",
      " ['M' 1439 46.9]]\n",
      "<class 'numpy.ndarray'>\n"
     ]
    },
    {
     "data": {
      "text/plain": [
       "62.0"
      ]
     },
     "execution_count": 17,
     "metadata": {},
     "output_type": "execute_result"
    }
   ],
   "source": [
    "print(meta.values)\n",
    "print(type(meta.values))\n",
    "meta.values[0][2]"
   ]
  },
  {
   "cell_type": "markdown",
   "metadata": {},
   "source": [
    "`DataFrame` 객체의 `values`을 이용하는 것보다 `iloc[]` 메소드를 사용하는 것이 더 편리할 때가 있다.\n",
    "`iloc[]` 메소드를 호출할 때는 접근하고자 하는 행과 열의 번호를 인자로 준다.\n",
    "\n",
    "`iloc[]` 메소드를 호출할 때 **슬라이싱(slicing)**이란 기법을 사용할 수 있다.\n",
    "인덱스를 `start:stop` 또는 `start:stop:step`와 같은 형식으로 주는 것을 슬라이싱이라 한다.\n",
    "예를 들어 `start:stop`은 `start`에서 시작해서 1씩 증가하지만 `stop`보다는 작은 일련의 인덱스를 나타내고, `start:stop:step`은 `start`에서 시작해서 `step`만큼씩 증가시키지만 `stop`을 초과하지 않는 일련의 인덱스를 나타낸다.\n",
    "`iloc[]` 메소드를 메소드를 호출할 때 `start`가 생략되면 `strat`는 0이 되고, `stop`이 생략되면 `stop`은 열의 수가 되며, `step`이 생략되면 `step`은 1이 된다."
   ]
  },
  {
   "cell_type": "code",
   "execution_count": 18,
   "metadata": {},
   "outputs": [
    {
     "name": "stdout",
     "output_type": "stream",
     "text": [
      "62.0\n",
      "0    62.0\n",
      "1    62.9\n",
      "Name: weight, dtype: float64\n",
      "  gender  rate\n",
      "0      M  1792\n",
      "1      M  1666\n",
      "2      F   995\n",
      "   rate  weight\n",
      "0  1792    62.0\n",
      "1  1666    62.9\n",
      "0     62.0\n",
      "3     54.6\n",
      "6     47.4\n",
      "9     48.7\n",
      "12    51.9\n",
      "15    51.1\n",
      "18    46.9\n",
      "Name: weight, dtype: float64\n"
     ]
    }
   ],
   "source": [
    "print(meta.iloc[0,2])\n",
    "print(meta.iloc[0:2, 2])\n",
    "print(meta.iloc[0:3, 0:2])\n",
    "print(meta.iloc[:2, 1:])\n",
    "print(meta.iloc[::3, 2])"
   ]
  },
  {
   "cell_type": "markdown",
   "metadata": {},
   "source": [
    "`DataFrame` 객체의 `iloc[]` 메소드를 사용하여 값을 수정할 수도 있다."
   ]
  },
  {
   "cell_type": "code",
   "execution_count": 19,
   "metadata": {},
   "outputs": [
    {
     "name": "stdout",
     "output_type": "stream",
     "text": [
      "36.1\n",
      "30.0\n",
      "36.1\n"
     ]
    }
   ],
   "source": [
    "meta_cp = meta.copy() # 복사본을 만들 때 copy() 메소드를 사용한다.\n",
    "print(meta_cp.iloc[2, 2])\n",
    "meta_cp.iloc[2, 2] = 30.0\n",
    "print(meta_cp.iloc[2, 2])\n",
    "meta_cp.iloc[2, 2] = 36.1\n",
    "print(meta_cp.iloc[2, 2])"
   ]
  },
  {
   "cell_type": "markdown",
   "metadata": {},
   "source": [
    "`DataFrame` 객체에 저장된 자료에 접근하거나 수정하는 메소드로 `at[]`가 있다.\n",
    "`iloc[]`와 다른 점은 `at[]`는 행 번호와 열 이름을 인자로 해서 호출한다는 것이다."
   ]
  },
  {
   "cell_type": "code",
   "execution_count": 20,
   "metadata": {},
   "outputs": [
    {
     "name": "stdout",
     "output_type": "stream",
     "text": [
      "62.0\n"
     ]
    }
   ],
   "source": [
    "print(meta_cp.at[0, 'weight'])"
   ]
  },
  {
   "cell_type": "code",
   "execution_count": 21,
   "metadata": {},
   "outputs": [
    {
     "name": "stdout",
     "output_type": "stream",
     "text": [
      "45.4\n"
     ]
    }
   ],
   "source": [
    "meta_cp.at[0, 'weight'] = 45.4\n",
    "print(meta_cp.at[0, 'weight'])"
   ]
  },
  {
   "cell_type": "markdown",
   "metadata": {},
   "source": [
    "## 열의 추가와 삭제\n",
    "\n",
    "자료를 분석하면서 기존 변수를 이용하여 새로운 변수를 만들어 내야 할 경우가 있다.\n",
    "머신 러닝이나 딥 러닝에서는 이를 **feature engineering**이라고 한다.\n",
    "새로 생성된 변수도 기존 자료에 추가해야 분석 작업을 손쉽게 할 수 있다."
   ]
  },
  {
   "cell_type": "markdown",
   "metadata": {},
   "source": [
    "난수를 발생하여 가상 자료를 만들어 실습하기로 하자.\n",
    "난수를 발생하는 여러 가지 함수는 `numpy` 라이브러리의 `random` 모듈에 정의되어 있다.\n",
    "그 중에서 `randn()` 함수는 표준정규분포의 난수를 발생하는 함수인데 원하는 난수의 개수를 인자로 호출하면 된다."
   ]
  },
  {
   "cell_type": "code",
   "execution_count": 22,
   "metadata": {},
   "outputs": [
    {
     "data": {
      "text/plain": [
       "array([-0.16721862,  0.75737221, -1.77110085, -0.19790415, -1.1331914 ,\n",
       "        0.40816093,  1.62749688,  1.26189081, -0.85339982,  0.11895995])"
      ]
     },
     "execution_count": 22,
     "metadata": {},
     "output_type": "execute_result"
    }
   ],
   "source": [
    "import numpy as np\n",
    "np.random.randn(10)"
   ]
  },
  {
   "cell_type": "markdown",
   "metadata": {},
   "source": [
    "`DataFrame` 객체에 열을 추가하거나 제거할 수 있다.\n",
    "`DataFrame` 객체 `meta`에 추가할 새로운 열은 기존 열과 동일한 개수의 값을 가져야 한다.\n",
    "`DataFrame` 객체에 새로운 열을 추가하려면 `[]` 연산자에 추가할 열의 이름을 주고 새로운 자료를 대입하면 된다."
   ]
  },
  {
   "cell_type": "code",
   "execution_count": 23,
   "metadata": {},
   "outputs": [
    {
     "name": "stdout",
     "output_type": "stream",
     "text": [
      "[ 0.33782978 -0.96538309  0.05341024  0.96423861  0.28272583  0.44522527\n",
      " -1.69613323  0.26499402  0.93659183  0.08790228 -0.78922543  0.35112391\n",
      "  0.48233599 -0.40680413  0.76643365 -0.56245144  1.12390817 -1.38830352\n",
      "  1.22431905]\n"
     ]
    }
   ],
   "source": [
    "new_var = np.random.randn(meta.shape[0])\n",
    "print(new_var)"
   ]
  },
  {
   "cell_type": "code",
   "execution_count": 24,
   "metadata": {
    "scrolled": true
   },
   "outputs": [
    {
     "name": "stdout",
     "output_type": "stream",
     "text": [
      "  gender  rate  weight   new_var\n",
      "0      M  1792    62.0  0.337830\n",
      "1      M  1666    62.9 -0.965383\n",
      "2      F   995    36.1  0.053410\n",
      "3      F  1425    54.6  0.964239\n",
      "4      F  1396    48.5  0.282726\n"
     ]
    }
   ],
   "source": [
    "meta['new_var'] = new_var\n",
    "print(meta.head())"
   ]
  },
  {
   "cell_type": "markdown",
   "metadata": {},
   "source": [
    "`DataFrame` 객체에서 특정 열을 삭제할 때는 다음과 같이 `del` 문장을 사용한다."
   ]
  },
  {
   "cell_type": "code",
   "execution_count": 25,
   "metadata": {},
   "outputs": [
    {
     "name": "stdout",
     "output_type": "stream",
     "text": [
      "  gender  rate  weight\n",
      "0      M  1792    62.0\n",
      "1      M  1666    62.9\n",
      "2      F   995    36.1\n",
      "3      F  1425    54.6\n",
      "4      F  1396    48.5\n"
     ]
    }
   ],
   "source": [
    "del meta['new_var']\n",
    "print(meta.head())"
   ]
  },
  {
   "cell_type": "markdown",
   "metadata": {},
   "source": [
    "## 척도의 지정\n",
    "\n",
    "컴퓨터로 자료를 처리할 때 입력한 자료로 어떤 계산 또는 연산을 할 수 있는가를 지정하는 것은 오류를 방지하는 좋은 방법이다.\n",
    "변수의 **척도(scale)**는 그 변수를 측정한 값으로 어떤 계산이나 연산을 할 수 있는지 나타낸다.\n",
    "프로그래밍 언어에서는 이를 위해 자료형(data type)이란 개념을 사용한다.\n",
    "수치를 값으로 가지는 변수를 통계학이 분류하는 4가지 척도 **명목척도**(nominal scale), **순서척도**(ordinal scale), **구간척도**(interval scale), **비척도**(ratio scale)는 프로그래밍 언어에 구현되어 있지 않다.\n",
    "따라서 올바른 자료분석을 위해서 변수의 척도를 지정하는 추가적인 조치를 해야만 한다.\n",
    "`pandas` 패키지에 척도를 위한 조치가 구현되어 있지만 구간척도를 지정하는 방법은 없으므로 자료를 분석하는 사람은 구간척도를 갖는 변수에 대해서는 특히 조심해야 한다."
   ]
  },
  {
   "cell_type": "markdown",
   "metadata": {},
   "source": [
    "대부분의 프로그래밍 언어는 숫자를 비척도 간주하므로 변수 별로 **범주형 변수(categorical variable, 명목척도나 순서척도를 갖는 변수)** 여부를 지정해야 한다.\n",
    "이를 위해 `DataFrame` 객체는 `astype()` 메소드가 준비되어 있다.\n",
    "`astype()` 메소드를 호출할 때 `CategoricalDtype` 객체를 전달하여 해당 변수가 범주형 변수임을 지정한다.\n",
    "`CategoricalDtype` 객체를 생성할 때 `categories` 매개변수에 범주형 변수가 가질 수 있는 값의 목록을 주고 `ordered` 매개변수에는 순서척도 여부를 `True` 또는 `False`로 지정한다.\n",
    "`ordered` 매개변수에 `True`를 전달하면 순서척도임을 지정하는 것이며 값의 순서는 `categories` 매개변수에 전달한 값의 순서와 같다.\n",
    "\n",
    "한 가지 주의할 점은 `astype() 메소드`는 원본 자료를 척도를 변경하지 않고 척도가 변경된 새로운 열을 만들어 주므로 `astype() 메소드`가 반환하는 결과를 저장해야 한다."
   ]
  },
  {
   "cell_type": "markdown",
   "metadata": {},
   "source": [
    "**대사율자료**에서 변수 `gender`의 척도는 명목척도이다.\n",
    "따라서 **대사율자료** 의 `gender` 열의 척도는 다음과 지정할 수 있다."
   ]
  },
  {
   "cell_type": "code",
   "execution_count": 26,
   "metadata": {},
   "outputs": [
    {
     "name": "stdout",
     "output_type": "stream",
     "text": [
      "<class 'pandas.core.frame.DataFrame'>\n",
      "RangeIndex: 19 entries, 0 to 18\n",
      "Data columns (total 3 columns):\n",
      "gender    19 non-null object\n",
      "rate      19 non-null int64\n",
      "weight    19 non-null float64\n",
      "dtypes: float64(1), int64(1), object(1)\n",
      "memory usage: 536.0+ bytes\n",
      "None\n",
      "<class 'pandas.core.frame.DataFrame'>\n",
      "RangeIndex: 19 entries, 0 to 18\n",
      "Data columns (total 3 columns):\n",
      "gender    19 non-null category\n",
      "rate      19 non-null int64\n",
      "weight    19 non-null float64\n",
      "dtypes: category(1), float64(1), int64(1)\n",
      "memory usage: 499.0 bytes\n"
     ]
    }
   ],
   "source": [
    "print(meta.info())\n",
    "genderType = pd.api.types.CategoricalDtype(categories=['M', 'F'], ordered=False)\n",
    "meta.gender = meta.gender.astype(genderType)\n",
    "meta.info()"
   ]
  },
  {
   "cell_type": "code",
   "execution_count": 27,
   "metadata": {},
   "outputs": [
    {
     "name": "stdout",
     "output_type": "stream",
     "text": [
      "0    M\n",
      "1    M\n",
      "2    F\n",
      "3    F\n",
      "4    F\n",
      "Name: gender, dtype: category\n",
      "Categories (2, object): [M, F]\n"
     ]
    }
   ],
   "source": [
    "print(meta.gender.head())"
   ]
  },
  {
   "cell_type": "markdown",
   "metadata": {},
   "source": [
    "## `DataFrame` 객체의 저장\n",
    "\n",
    "`DataFrame` 객체에 저장된 자료는 여러 가지 방법으로 저장할 수 있지만 여기서는 CSV 파일로 저장하는 방법만 다루기로 하자.\n",
    "파일 이름을 인자로 해서 `DataFrame` 객체의 `to_csv()` 메소드를 호출하면 CSV 파일로 저장할 수 있다.\n",
    "`to_csv()` 메소드는 기본적으로 행 번호와 열 이름도 파일에 저장해준다.\n",
    "행 번호는 출력하지 않는 것이 좋으며 이때는 `to_csv()` 메소드 `index` 매개변수에 `False`를 인자로 전달하면 된다.\n",
    "\n",
    "Note: `DataFrame` 객체는 여러 타입의 파일로 저장하는`to_`로 시작하는 메소드를 가지고 있다. 파일로부터 `DataFrame` 객체를 생성할 때는 `pandas.read_csv()` 함수와 같은 `read_`로 시작하는 함수를 사용한다."
   ]
  },
  {
   "cell_type": "code",
   "execution_count": 28,
   "metadata": {},
   "outputs": [],
   "source": [
    "meta.to_csv('metabolism_post.csv', index=False)"
   ]
  },
  {
   "cell_type": "markdown",
   "metadata": {},
   "source": [
    "`to_csv()` 메소드를 호출할 때 쉼표 대신 사용할 값 구분문자, 열 이름의 출력 여부 등도 지정할 수 있다.\n",
    "값 구분문자는 `sep` 매개변수에 전달하고, 열 이름의 출력 여부는 `header` 매개변수에 논리값으로 전달한다.\n",
    "`DataFrame` 객체의 일부 열만 출력하도록 지정할 수도 있는데 `columns` 매개변수에 출력할 열 이름을 리스트로 전달하면 된다."
   ]
  },
  {
   "cell_type": "code",
   "execution_count": 29,
   "metadata": {},
   "outputs": [],
   "source": [
    "meta.to_csv('gender_rate.csv', columns=['gender', 'rate'], sep='\\t', header=False, index=False)"
   ]
  },
  {
   "cell_type": "markdown",
   "metadata": {},
   "source": [
    "## 통계분석\n",
    "\n",
    "`DataFrame` 자료구조는 자료분석에 필요한 기본적인 메소드를 가지고 있다.\n",
    "다음은 이 메소드를 이용해서 특정 열의 최대값, 최소값, 평균, 중앙값, 첨도, 비대칭도(왜도), 분산, 표준편차, 평균편차, 분위수를 구하는 예이다."
   ]
  },
  {
   "cell_type": "code",
   "execution_count": 30,
   "metadata": {},
   "outputs": [
    {
     "name": "stdout",
     "output_type": "stream",
     "text": [
      "1867\n",
      "913\n",
      "1369.5263157894738\n",
      "1396.0\n",
      "-0.330662640995\n",
      "0.132742542277\n",
      "66308.37426900584\n",
      "257.50412476114985\n",
      "198.2880886426593\n",
      "0.1    1040.6\n",
      "0.2    1163.0\n",
      "0.3    1224.8\n",
      "0.4    1350.0\n",
      "0.5    1396.0\n",
      "Name: rate, dtype: float64\n"
     ]
    }
   ],
   "source": [
    "print(meta.rate.max())\n",
    "print(meta.rate.min())\n",
    "print(meta.rate.mean())\n",
    "print(meta.rate.median())\n",
    "print(meta.rate.kurt())\n",
    "print(meta.rate.skew())\n",
    "print(meta.rate.var())\n",
    "print(meta.rate.std())\n",
    "print(meta.rate.mad())\n",
    "qct = [0.1, 0.2, 0.3, 0.4, 0.5]\n",
    "print(meta.rate.quantile(qct))"
   ]
  },
  {
   "cell_type": "markdown",
   "metadata": {},
   "source": [
    "다음은 특정 열의 합, 누적합을 구하고, 정렬한 결과를 구하는 예이다."
   ]
  },
  {
   "cell_type": "code",
   "execution_count": 31,
   "metadata": {},
   "outputs": [
    {
     "name": "stdout",
     "output_type": "stream",
     "text": [
      "26021\n",
      "0      1792\n",
      "1      3458\n",
      "2      4453\n",
      "3      5878\n",
      "4      7274\n",
      "5      8692\n",
      "6     10054\n",
      "7     11556\n",
      "8     12812\n",
      "9     14426\n",
      "10    15615\n",
      "11    16528\n",
      "12    17988\n",
      "13    19112\n",
      "14    20164\n",
      "15    21511\n",
      "16    22715\n",
      "17    24582\n",
      "18    26021\n",
      "Name: rate, dtype: int64\n",
      "11     913\n",
      "2      995\n",
      "14    1052\n",
      "13    1124\n",
      "10    1189\n",
      "16    1204\n",
      "8     1256\n",
      "15    1347\n",
      "6     1362\n",
      "4     1396\n",
      "5     1418\n",
      "3     1425\n",
      "18    1439\n",
      "12    1460\n",
      "7     1502\n",
      "9     1614\n",
      "1     1666\n",
      "0     1792\n",
      "17    1867\n",
      "Name: rate, dtype: int64\n"
     ]
    }
   ],
   "source": [
    "print(meta.rate.sum())\n",
    "print(meta.rate.cumsum())\n",
    "rate = meta.rate.sort_values()\n",
    "print(rate)"
   ]
  },
  {
   "cell_type": "markdown",
   "metadata": {},
   "source": [
    "다음은 비척도를 갖는 열 간의 상관계수 행렬을 구하는 예이다.\n",
    "범주형 변수로 지정된 열은 상관계수를 구할 수 없으므로 이 결과에 포함되지 않는다.\n",
    "척도를 지정하는 것이 중요하다는 것을 보여주는 대표적인 예이다."
   ]
  },
  {
   "cell_type": "code",
   "execution_count": 32,
   "metadata": {},
   "outputs": [
    {
     "data": {
      "text/html": [
       "<div>\n",
       "<style scoped>\n",
       "    .dataframe tbody tr th:only-of-type {\n",
       "        vertical-align: middle;\n",
       "    }\n",
       "\n",
       "    .dataframe tbody tr th {\n",
       "        vertical-align: top;\n",
       "    }\n",
       "\n",
       "    .dataframe thead th {\n",
       "        text-align: right;\n",
       "    }\n",
       "</style>\n",
       "<table border=\"1\" class=\"dataframe\">\n",
       "  <thead>\n",
       "    <tr style=\"text-align: right;\">\n",
       "      <th></th>\n",
       "      <th>rate</th>\n",
       "      <th>weight</th>\n",
       "    </tr>\n",
       "  </thead>\n",
       "  <tbody>\n",
       "    <tr>\n",
       "      <th>rate</th>\n",
       "      <td>1.000000</td>\n",
       "      <td>0.864736</td>\n",
       "    </tr>\n",
       "    <tr>\n",
       "      <th>weight</th>\n",
       "      <td>0.864736</td>\n",
       "      <td>1.000000</td>\n",
       "    </tr>\n",
       "  </tbody>\n",
       "</table>\n",
       "</div>"
      ],
      "text/plain": [
       "            rate    weight\n",
       "rate    1.000000  0.864736\n",
       "weight  0.864736  1.000000"
      ]
     },
     "execution_count": 32,
     "metadata": {},
     "output_type": "execute_result"
    }
   ],
   "source": [
    "meta.corr()"
   ]
  },
  {
   "cell_type": "markdown",
   "metadata": {},
   "source": [
    "## 히스토그램 작성\n",
    "\n",
    "`DataFrame` 객체의 `plot()` 메소드로 산점도, 히스토그램, 상자 그림, 꺽은 선 그래프, 원 그래프 등을 작성할 수 있다.\n",
    "작성한 그래프를 jupyter notebook에 포함시키려면 다음 문장을 실행해야 한다."
   ]
  },
  {
   "cell_type": "code",
   "execution_count": 33,
   "metadata": {},
   "outputs": [],
   "source": [
    "%matplotlib inline"
   ]
  },
  {
   "cell_type": "code",
   "execution_count": 34,
   "metadata": {},
   "outputs": [
    {
     "name": "stdout",
     "output_type": "stream",
     "text": [
      "913\n"
     ]
    },
    {
     "data": {
      "text/plain": [
       "1867"
      ]
     },
     "execution_count": 34,
     "metadata": {},
     "output_type": "execute_result"
    }
   ],
   "source": [
    "print(meta.rate.min())\n",
    "meta.rate.max()"
   ]
  },
  {
   "cell_type": "code",
   "execution_count": 35,
   "metadata": {},
   "outputs": [
    {
     "data": {
      "text/plain": [
       "Text(0,0.5,'density')"
      ]
     },
     "execution_count": 35,
     "metadata": {},
     "output_type": "execute_result"
    },
    {
     "data": {
      "image/png": "[encoded data removed]",
      "text/plain": [
       "<matplotlib.figure.Figure at 0x24c65581f28>"
      ]
     },
     "metadata": {},
     "output_type": "display_data"
    }
   ],
   "source": [
    "ax = meta.rate.plot(kind='hist', bins=[900, 1000, 1200, 1300, 1400, 1500, 1600, 1700, 1800, 1900, 2000], \n",
    "               normed=True, \n",
    "               xlim=(800, 2000),\n",
    "               color='c',\n",
    "               title='Histogram of Metabolism Rate')\n",
    "ax.set_xlabel('metabolism rate(cal/hr)')\n",
    "ax.set_ylabel('density')"
   ]
  },
  {
   "cell_type": "code",
   "execution_count": 36,
   "metadata": {},
   "outputs": [
    {
     "data": {
      "text/plain": [
       "<matplotlib.axes._subplots.AxesSubplot at 0x24c65886a58>"
      ]
     },
     "execution_count": 36,
     "metadata": {},
     "output_type": "execute_result"
    },
    {
     "data": {
      "image/png": "[encoded data removed]",
      "text/plain": [
       "<matplotlib.figure.Figure at 0x24c65636128>"
      ]
     },
     "metadata": {},
     "output_type": "display_data"
    }
   ],
   "source": [
    "meta.rate.plot(kind='box')"
   ]
  },
  {
   "cell_type": "markdown",
   "metadata": {},
   "source": [
    "`value_counts()` 메소드를 사용하면 범주형 변수의 도수분포표를 쉽게 작성할 수 있다.\n",
    "이 결과를 이용해서 막대그래프를 작성할 수 있다."
   ]
  },
  {
   "cell_type": "code",
   "execution_count": 37,
   "metadata": {},
   "outputs": [
    {
     "name": "stdout",
     "output_type": "stream",
     "text": [
      "F    0.631579\n",
      "M    0.368421\n",
      "Name: gender, dtype: float64\n"
     ]
    },
    {
     "data": {
      "text/plain": [
       "<matplotlib.axes._subplots.AxesSubplot at 0x24c65946198>"
      ]
     },
     "execution_count": 37,
     "metadata": {},
     "output_type": "execute_result"
    },
    {
     "data": {
      "image/png": "[encoded data removed]",
      "text/plain": [
       "<matplotlib.figure.Figure at 0x24c64c486d8>"
      ]
     },
     "metadata": {},
     "output_type": "display_data"
    }
   ],
   "source": [
    "freq = meta.gender.value_counts()\n",
    "relfreq = meta.gender.value_counts(normalize=True)\n",
    "print(relfreq)\n",
    "relfreq.plot(kind='bar')"
   ]
  },
  {
   "cell_type": "code",
   "execution_count": 38,
   "metadata": {},
   "outputs": [
    {
     "data": {
      "text/plain": [
       "<matplotlib.axes._subplots.AxesSubplot at 0x24c6596d860>"
      ]
     },
     "execution_count": 38,
     "metadata": {},
     "output_type": "execute_result"
    },
    {
     "data": {
      "image/png": "[encoded data removed]",
      "text/plain": [
       "<matplotlib.figure.Figure at 0x24c659a8128>"
      ]
     },
     "metadata": {},
     "output_type": "display_data"
    }
   ],
   "source": [
    "relfreq.plot(kind='barh')"
   ]
  },
  {
   "cell_type": "markdown",
   "metadata": {},
   "source": [
    "비척도를 갖는 변수 간의 관계를 알아보기 위한 산점도도작성할 수 있다."
   ]
  },
  {
   "cell_type": "code",
   "execution_count": 39,
   "metadata": {},
   "outputs": [
    {
     "data": {
      "text/plain": [
       "<matplotlib.axes._subplots.AxesSubplot at 0x24c65a14860>"
      ]
     },
     "execution_count": 39,
     "metadata": {},
     "output_type": "execute_result"
    },
    {
     "data": {
      "image/png": "[encoded data removed]",
      "text/plain": [
       "<matplotlib.figure.Figure at 0x24c659a8d30>"
      ]
     },
     "metadata": {},
     "output_type": "display_data"
    }
   ],
   "source": [
    "meta.plot(kind='scatter', x='weight', y='rate',\n",
    "         xlim=(0, 100),\n",
    "         ylim=(500, 2000),\n",
    "         title=\"Plot of metabolism rate against weight\")"
   ]
  },
  {
   "cell_type": "markdown",
   "metadata": {},
   "source": [
    "## 집단별 분석\n",
    "\n",
    "자료를 범주형 변수의 값에 따라 소집단으로 나누어 분석하려면 `groupby()` 메소드를 사용한다.\n",
    "다음은 자료를 성별로 분석하는 예이다."
   ]
  },
  {
   "cell_type": "code",
   "execution_count": 40,
   "metadata": {},
   "outputs": [
    {
     "data": {
      "text/html": [
       "<div>\n",
       "<style scoped>\n",
       "    .dataframe tbody tr th:only-of-type {\n",
       "        vertical-align: middle;\n",
       "    }\n",
       "\n",
       "    .dataframe tbody tr th {\n",
       "        vertical-align: top;\n",
       "    }\n",
       "\n",
       "    .dataframe thead th {\n",
       "        text-align: right;\n",
       "    }\n",
       "</style>\n",
       "<table border=\"1\" class=\"dataframe\">\n",
       "  <thead>\n",
       "    <tr style=\"text-align: right;\">\n",
       "      <th></th>\n",
       "      <th>rate</th>\n",
       "      <th>weight</th>\n",
       "    </tr>\n",
       "    <tr>\n",
       "      <th>gender</th>\n",
       "      <th></th>\n",
       "      <th></th>\n",
       "    </tr>\n",
       "  </thead>\n",
       "  <tbody>\n",
       "    <tr>\n",
       "      <th>M</th>\n",
       "      <td>189.239707</td>\n",
       "      <td>6.688547</td>\n",
       "    </tr>\n",
       "    <tr>\n",
       "      <th>F</th>\n",
       "      <td>188.282891</td>\n",
       "      <td>6.868417</td>\n",
       "    </tr>\n",
       "  </tbody>\n",
       "</table>\n",
       "</div>"
      ],
      "text/plain": [
       "              rate    weight\n",
       "gender                      \n",
       "M       189.239707  6.688547\n",
       "F       188.282891  6.868417"
      ]
     },
     "execution_count": 40,
     "metadata": {},
     "output_type": "execute_result"
    }
   ],
   "source": [
    "meta.groupby('gender').mean()\n",
    "meta.groupby('gender').std()"
   ]
  },
  {
   "cell_type": "code",
   "execution_count": 41,
   "metadata": {},
   "outputs": [
    {
     "data": {
      "text/plain": [
       "gender\n",
       "M    1600.000000\n",
       "F    1235.083333\n",
       "Name: rate, dtype: float64"
      ]
     },
     "execution_count": 41,
     "metadata": {},
     "output_type": "execute_result"
    }
   ],
   "source": [
    "meta.groupby('gender').rate.mean()"
   ]
  },
  {
   "cell_type": "markdown",
   "metadata": {},
   "source": [
    "다음은 체중과 대사율 간의 관계를 보여주는 산점도를 성별로 작성하는 예이다."
   ]
  },
  {
   "cell_type": "code",
   "execution_count": 42,
   "metadata": {},
   "outputs": [
    {
     "data": {
      "image/png": "[encoded data removed]",
      "text/plain": [
       "<matplotlib.figure.Figure at 0x24c65a21400>"
      ]
     },
     "metadata": {},
     "output_type": "display_data"
    },
    {
     "data": {
      "image/png": "[encoded data removed]",
      "text/plain": [
       "<matplotlib.figure.Figure at 0x24c66aaf860>"
      ]
     },
     "metadata": {},
     "output_type": "display_data"
    }
   ],
   "source": [
    "import matplotlib.pyplot as plt\n",
    "#ax = plt.subplot()\n",
    "subplots = meta.groupby('gender').plot(kind='scatter', x='weight', y='rate',\n",
    "                            xlim=(0, 100), ylim=(500, 2000))"
   ]
  },
  {
   "cell_type": "code",
   "execution_count": 43,
   "metadata": {},
   "outputs": [
    {
     "name": "stdout",
     "output_type": "stream",
     "text": [
      "gender\n",
      "M    AxesSubplot(0.125,0.125;0.775x0.755)\n",
      "F    AxesSubplot(0.125,0.125;0.775x0.755)\n",
      "dtype: object\n"
     ]
    }
   ],
   "source": [
    "print(subplots)"
   ]
  },
  {
   "cell_type": "markdown",
   "metadata": {},
   "source": [
    "## 회귀분석\n",
    "\n",
    "**회귀분석**(regression analysis)은 반응변수와 설명변수 간의 함수 관계를 찾아내고 추정하는 통계적 방법이다.\n",
    "관계를 표현하는 함수는 선형일수도 비선형일 수도 있다.\n",
    "전통적인 회귀분석 이론은 선형인 경우를 많이 다루지만 그렇다고 선형모형에만 적용하는 분석법은 아니다.\n",
    "\n",
    "전통적인 회귀모형의 반응변수는 비척도를 갖는 양적변수이지만, 반응변수가 범주형 변수인 경우도 회귀분석 이론에 통합되었으며 **일반화 선형모형**(generalized linear model)이라고 한다.\n",
    "대표적인 일반화 선형모형이 **로지스틱 회귀분석**(logistic regression analysis)이다."
   ]
  },
  {
   "cell_type": "markdown",
   "metadata": {},
   "source": [
    "머신 러닝이나 딥 러닝에서는 반응변수가 양적변수인 경우를 **회귀** 또는 **예측**(prediction)이라고 하고, 범주형 변수인 경우를 **분류(classification)**라고 한다.\n",
    "이는 회귀분석 특히 비선형 회귀분석이 머신 러닝과 딥 러닝의 핵심임을 시사한다."
   ]
  },
  {
   "cell_type": "markdown",
   "metadata": {},
   "source": [
    "회귀분석과 같은 고급 통계분석 기법은 대부분 `statsmodels` 패키지에 구현되어 있다.\n",
    "`statsmodels.formula.api` 모듈은 R과 동일한 방법으로 분석할 수 있도록 해준다."
   ]
  },
  {
   "cell_type": "markdown",
   "metadata": {},
   "source": [
    "`formula` 매개변수와 `data` 매개변수에 회귀모형과 `DataFrame` 객체를 전달하여 `ols()` 함수를 실행하면 회귀모형 객체를 생성할 수 있다.\n",
    "회귀모형 객체의 `fit()` 메소드는 회귀분석을 실시하고 그 결과를 반환한다.\n",
    "`summary()` 메소드를 비롯한 결과 객체의 메소드로 회귀분석 결과를 볼 수 있다."
   ]
  },
  {
   "cell_type": "markdown",
   "metadata": {},
   "source": [
    "회귀모형은 `반응변수 ~ 설명변수 + 설명변수 + ...`와 같은 방법으로 문자열로 지정한다.\n",
    "반응변수와 설명변수는 `DataFrame` 객체에 저장된 자료의 열 이름이다."
   ]
  },
  {
   "cell_type": "code",
   "execution_count": 44,
   "metadata": {},
   "outputs": [
    {
     "name": "stdout",
     "output_type": "stream",
     "text": [
      "                            OLS Regression Results                            \n",
      "==============================================================================\n",
      "Dep. Variable:                   rate   R-squared:                       0.748\n",
      "Model:                            OLS   Adj. R-squared:                  0.733\n",
      "Method:                 Least Squares   F-statistic:                     50.40\n",
      "Date:                Mon, 22 Jan 2018   Prob (F-statistic):           1.78e-06\n",
      "Time:                        14:45:45   Log-Likelihood:                -118.83\n",
      "No. Observations:                  19   AIC:                             241.7\n",
      "Df Residuals:                      17   BIC:                             243.5\n",
      "Df Model:                           1                                         \n",
      "Covariance Type:            nonrobust                                         \n",
      "==============================================================================\n",
      "                 coef    std err          t      P>|t|      [0.025      0.975]\n",
      "------------------------------------------------------------------------------\n",
      "Intercept    113.1654    179.587      0.630      0.537    -265.729     492.060\n",
      "weight        26.8786      3.786      7.099      0.000      18.890      34.867\n",
      "==============================================================================\n",
      "Omnibus:                        8.954   Durbin-Watson:                   1.665\n",
      "Prob(Omnibus):                  0.011   Jarque-Bera (JB):                6.105\n",
      "Skew:                           1.219   Prob(JB):                       0.0472\n",
      "Kurtosis:                       4.329   Cond. No.                         279.\n",
      "==============================================================================\n",
      "\n",
      "Warnings:\n",
      "[1] Standard Errors assume that the covariance matrix of the errors is correctly specified.\n"
     ]
    },
    {
     "name": "stderr",
     "output_type": "stream",
     "text": [
      "C:\\app\\Anaconda3\\lib\\site-packages\\scipy\\stats\\stats.py:1390: UserWarning: kurtosistest only valid for n>=20 ... continuing anyway, n=19\n",
      "  \"anyway, n=%i\" % int(n))\n"
     ]
    }
   ],
   "source": [
    "from statsmodels.formula.api import ols\n",
    "model = ols(formula='rate ~ weight', data=meta)\n",
    "result = model.fit()\n",
    "print(result.summary())"
   ]
  },
  {
   "cell_type": "markdown",
   "metadata": {},
   "source": [
    "회귀분석 결과 객체의 속성과 메소드는 다음과 같이 알아 볼 수 있다."
   ]
  },
  {
   "cell_type": "code",
   "execution_count": 45,
   "metadata": {},
   "outputs": [
    {
     "name": "stdout",
     "output_type": "stream",
     "text": [
      "HC0_se, HC1_se, HC2_se, HC3_se, _HCCM, __class__, __delattr__, __dict__, __dir__, __doc__, __eq__, __format__, __ge__, __getattribute__, __gt__, __hash__, __init__, __init_subclass__, __le__, __lt__, __module__, __ne__, __new__, __reduce__, __reduce_ex__, __repr__, __setattr__, __sizeof__, __str__, __subclasshook__, __weakref__, _cache, _data_attr, _get_robustcov_results, _is_nested, _wexog_singular_values, aic, bic, bse, centered_tss, compare_f_test, compare_lm_test, compare_lr_test, condition_number, conf_int, conf_int_el, cov_HC0, cov_HC1, cov_HC2, cov_HC3, cov_kwds, cov_params, cov_type, df_model, df_resid, diagn, eigenvals, el_test, ess, f_pvalue, f_test, fittedvalues, fvalue, get_influence, get_prediction, get_robustcov_results, initialize, k_constant, llf, load, model, mse_model, mse_resid, mse_total, nobs, normalized_cov_params, outlier_test, params, predict, pvalues, remove_data, resid, resid_pearson, rsquared, rsquared_adj, save, scale, ssr, summary, summary2, t_test, tvalues, uncentered_tss, use_t, wald_test, wald_test_terms, wresid\n"
     ]
    }
   ],
   "source": [
    "print(', '.join(dir(result)))"
   ]
  },
  {
   "cell_type": "code",
   "execution_count": 46,
   "metadata": {},
   "outputs": [
    {
     "name": "stdout",
     "output_type": "stream",
     "text": [
      "Intercept    113.165407\n",
      "weight        26.878569\n",
      "dtype: float64\n",
      "113.16540715\n"
     ]
    }
   ],
   "source": [
    "print(result.params)\n",
    "print(result.params[0])"
   ]
  },
  {
   "cell_type": "markdown",
   "metadata": {},
   "source": [
    "분산분석표에 들어갈 자유도는 `df_resid`, `df_model` 속성에 저장되어 있다."
   ]
  },
  {
   "cell_type": "code",
   "execution_count": 47,
   "metadata": {},
   "outputs": [
    {
     "name": "stdout",
     "output_type": "stream",
     "text": [
      "17.0\n",
      "1.0\n"
     ]
    }
   ],
   "source": [
    "print(result.df_resid)\n",
    "print(result.df_model)"
   ]
  },
  {
   "cell_type": "markdown",
   "metadata": {},
   "source": [
    "오차항의 추정치 MSE는 `mse_model` 속성에 저장되어 있다."
   ]
  },
  {
   "cell_type": "code",
   "execution_count": 48,
   "metadata": {},
   "outputs": [
    {
     "name": "stdout",
     "output_type": "stream",
     "text": [
      "892499.634981\n"
     ]
    }
   ],
   "source": [
    "print(result.mse_model)"
   ]
  },
  {
   "cell_type": "markdown",
   "metadata": {},
   "source": [
    "잔차는 `resid` 속성에 저장되어 있다."
   ]
  },
  {
   "cell_type": "code",
   "execution_count": 49,
   "metadata": {},
   "outputs": [
    {
     "name": "stdout",
     "output_type": "stream",
     "text": [
      "0      12.363305\n",
      "1    -137.827407\n",
      "2     -88.481754\n",
      "3    -155.735283\n",
      "4     -20.776011\n",
      "5     175.934688\n",
      "6     -25.209585\n",
      "7      28.778994\n",
      "8      13.934688\n",
      "9     191.848275\n",
      "10     -7.371744\n",
      "11    -89.846046\n",
      "12    -48.163146\n",
      "13   -128.816739\n",
      "14     11.523957\n",
      "15   -139.660291\n",
      "16    -16.562456\n",
      "17    358.836854\n",
      "18     65.229700\n",
      "dtype: float64\n"
     ]
    }
   ],
   "source": [
    "print(result.resid)"
   ]
  },
  {
   "cell_type": "markdown",
   "metadata": {},
   "source": [
    "회귀분석 결과에 대한 분산분석표는 다음과 같이 출력할 수 있다."
   ]
  },
  {
   "cell_type": "code",
   "execution_count": 50,
   "metadata": {},
   "outputs": [
    {
     "name": "stdout",
     "output_type": "stream",
     "text": [
      "            df         sum_sq        mean_sq        F    PR(>F)\n",
      "weight     1.0  892499.634981  892499.634981  50.3984  0.000002\n",
      "Residual  17.0  301051.101862   17708.888345      NaN       NaN\n"
     ]
    },
    {
     "name": "stderr",
     "output_type": "stream",
     "text": [
      "C:\\app\\Anaconda3\\lib\\site-packages\\scipy\\stats\\_distn_infrastructure.py:879: RuntimeWarning: invalid value encountered in greater\n",
      "  return (self.a < x) & (x < self.b)\n",
      "C:\\app\\Anaconda3\\lib\\site-packages\\scipy\\stats\\_distn_infrastructure.py:879: RuntimeWarning: invalid value encountered in less\n",
      "  return (self.a < x) & (x < self.b)\n",
      "C:\\app\\Anaconda3\\lib\\site-packages\\scipy\\stats\\_distn_infrastructure.py:1821: RuntimeWarning: invalid value encountered in less_equal\n",
      "  cond2 = cond0 & (x <= self.a)\n"
     ]
    }
   ],
   "source": [
    "import statsmodels.stats.anova as smsa\n",
    "anova = smsa.anova_lm(result, typ=1)\n",
    "print(anova)"
   ]
  },
  {
   "cell_type": "markdown",
   "metadata": {},
   "source": [
    "분산분석 결과가 `DataFrame` 객체이므로 자료가 저장된 `DataFrame` 객체를 다룰 때와 같은 방법으로 이용할 수 있다. "
   ]
  },
  {
   "cell_type": "code",
   "execution_count": 51,
   "metadata": {},
   "outputs": [
    {
     "name": "stdout",
     "output_type": "stream",
     "text": [
      "<class 'pandas.core.frame.DataFrame'>\n",
      "Index(['df', 'sum_sq', 'mean_sq', 'F', 'PR(>F)'], dtype='object')\n",
      "weight      892499.634981\n",
      "Residual    301051.101862\n",
      "Name: sum_sq, dtype: float64\n"
     ]
    }
   ],
   "source": [
    "print(type(anova))\n",
    "print(anova.columns)\n",
    "print(anova.sum_sq)"
   ]
  },
  {
   "cell_type": "markdown",
   "metadata": {},
   "source": [
    "원자료에 잔차와 추정값을 추가한 `DataFrame` 객체를 만들어서 CSV 파일로 저장할 수 있으며, 추정된 회귀선과 산점도를 겹친 그래프를 그릴 수 있다."
   ]
  },
  {
   "cell_type": "code",
   "execution_count": 52,
   "metadata": {},
   "outputs": [
    {
     "data": {
      "text/plain": [
       "<matplotlib.axes._subplots.AxesSubplot at 0x24c67c73c18>"
      ]
     },
     "execution_count": 52,
     "metadata": {},
     "output_type": "execute_result"
    },
    {
     "data": {
      "image/png": "[encoded data removed]",
      "text/plain": [
       "<matplotlib.figure.Figure at 0x24c67c60438>"
      ]
     },
     "metadata": {},
     "output_type": "display_data"
    }
   ],
   "source": [
    "meta['residual'] = result.resid\n",
    "meta['yhat'] = meta.rate - result.resid\n",
    "ax = meta.plot(kind='line', x='weight', y='yhat')\n",
    "meta.plot(kind='scatter', x='weight', y='rate', ax = ax)"
   ]
  },
  {
   "cell_type": "code",
   "execution_count": 53,
   "metadata": {},
   "outputs": [],
   "source": [
    "meta.to_csv('meta_reg_result.csv', index=False)"
   ]
  },
  {
   "cell_type": "markdown",
   "metadata": {},
   "source": [
    "## 범주형 설명변수가 있는 회귀모형의 분석\n",
    "\n",
    "범주형 설명변수는 `C(범주형변수)`와 같은 방법으로 회귀모형에 포함시킨다.\n",
    "그러면 범주형 변수는 0, 1을 값으로 갖는 **이진변수(binary variable, indicator variable)**로 자동변환되어 회귀분석이 실시된다.\n",
    "머신 러닝이나 딥 러닝에서는 이런 변환을 **one hot encoding**이라고 한다."
   ]
  },
  {
   "cell_type": "markdown",
   "metadata": {},
   "source": [
    "`statsmodels` 패키지에서는 자동적으로 one hot encoding이 되도록 했지만, 머신 러닝과 딥 러닝에 사용되는 다른 파이썬 패키지에서는 one hot encoding을 지원하는 함수나 메소드로 one hot encoding을 수행한 다음 분석에 들어가야 한다."
   ]
  },
  {
   "cell_type": "markdown",
   "metadata": {},
   "source": [
    "회귀모형에 설명변수들의 효과만 포함시키고자 하면 설명변수 사이에 `+`를 기재하고, 설명변수 간의 **교호작용(상호작용, interaction)**도 포함시키고자 하면 변수 사이에 `*`를 기재한다."
   ]
  },
  {
   "cell_type": "code",
   "execution_count": 54,
   "metadata": {},
   "outputs": [
    {
     "name": "stdout",
     "output_type": "stream",
     "text": [
      "                            OLS Regression Results                            \n",
      "==============================================================================\n",
      "Dep. Variable:                   rate   R-squared:                       0.807\n",
      "Model:                            OLS   Adj. R-squared:                  0.769\n",
      "Method:                 Least Squares   F-statistic:                     20.95\n",
      "Date:                Mon, 22 Jan 2018   Prob (F-statistic):           1.28e-05\n",
      "Time:                        14:45:46   Log-Likelihood:                -116.27\n",
      "No. Observations:                  19   AIC:                             240.5\n",
      "Df Residuals:                      15   BIC:                             244.3\n",
      "Df Model:                           3                                         \n",
      "Covariance Type:            nonrobust                                         \n",
      "=========================================================================================\n",
      "                            coef    std err          t      P>|t|      [0.025      0.975]\n",
      "-----------------------------------------------------------------------------------------\n",
      "Intercept               710.5028    404.012      1.759      0.099    -150.628    1571.633\n",
      "C(gender)[T.F]         -509.3412    468.200     -1.088      0.294   -1507.285     488.603\n",
      "weight                   16.7514      7.557      2.217      0.043       0.643      32.859\n",
      "weight:C(gender)[T.F]     7.2747      9.309      0.781      0.447     -12.567      27.116\n",
      "==============================================================================\n",
      "Omnibus:                        5.466   Durbin-Watson:                   2.125\n",
      "Prob(Omnibus):                  0.065   Jarque-Bera (JB):                3.374\n",
      "Skew:                           1.000   Prob(JB):                        0.185\n",
      "Kurtosis:                       3.509   Cond. No.                     1.16e+03\n",
      "==============================================================================\n",
      "\n",
      "Warnings:\n",
      "[1] Standard Errors assume that the covariance matrix of the errors is correctly specified.\n",
      "[2] The condition number is large, 1.16e+03. This might indicate that there are\n",
      "strong multicollinearity or other numerical problems.\n"
     ]
    },
    {
     "name": "stderr",
     "output_type": "stream",
     "text": [
      "C:\\app\\Anaconda3\\lib\\site-packages\\scipy\\stats\\stats.py:1390: UserWarning: kurtosistest only valid for n>=20 ... continuing anyway, n=19\n",
      "  \"anyway, n=%i\" % int(n))\n"
     ]
    }
   ],
   "source": [
    "model = ols(formula='rate ~ weight * C(gender)', data=meta)\n",
    "result = model.fit()\n",
    "print(result.summary())"
   ]
  },
  {
   "cell_type": "code",
   "execution_count": 55,
   "metadata": {},
   "outputs": [
    {
     "name": "stdout",
     "output_type": "stream",
     "text": [
      "                            OLS Regression Results                            \n",
      "==============================================================================\n",
      "Dep. Variable:                   rate   R-squared:                       0.799\n",
      "Model:                            OLS   Adj. R-squared:                  0.774\n",
      "Method:                 Least Squares   F-statistic:                     31.90\n",
      "Date:                Mon, 22 Jan 2018   Prob (F-statistic):           2.61e-06\n",
      "Time:                        14:45:46   Log-Likelihood:                -116.65\n",
      "No. Observations:                  19   AIC:                             239.3\n",
      "Df Residuals:                      16   BIC:                             242.1\n",
      "Df Model:                           2                                         \n",
      "Covariance Type:            nonrobust                                         \n",
      "==================================================================================\n",
      "                     coef    std err          t      P>|t|      [0.025      0.975]\n",
      "----------------------------------------------------------------------------------\n",
      "Intercept        455.9077    236.010      1.932      0.071     -44.411     956.227\n",
      "C(gender)[T.F]  -148.0203     72.858     -2.032      0.059    -302.472       6.432\n",
      "weight            21.5460      4.359      4.943      0.000      12.306      30.786\n",
      "==============================================================================\n",
      "Omnibus:                        5.411   Durbin-Watson:                   1.866\n",
      "Prob(Omnibus):                  0.067   Jarque-Bera (JB):                3.351\n",
      "Skew:                           1.000   Prob(JB):                        0.187\n",
      "Kurtosis:                       3.484   Cond. No.                         409.\n",
      "==============================================================================\n",
      "\n",
      "Warnings:\n",
      "[1] Standard Errors assume that the covariance matrix of the errors is correctly specified.\n"
     ]
    },
    {
     "name": "stderr",
     "output_type": "stream",
     "text": [
      "C:\\app\\Anaconda3\\lib\\site-packages\\scipy\\stats\\stats.py:1390: UserWarning: kurtosistest only valid for n>=20 ... continuing anyway, n=19\n",
      "  \"anyway, n=%i\" % int(n))\n"
     ]
    }
   ],
   "source": [
    "model = ols(formula='rate ~ weight + C(gender)', data=meta)\n",
    "result = model.fit()\n",
    "print(result.summary())"
   ]
  },
  {
   "cell_type": "markdown",
   "metadata": {},
   "source": [
    "## 연습문제\n",
    "\n",
    "wine.csv에 저장된 **심장병자료**를 읽어들여 `DataFrame` 객체 wine를 만들고 다음 질문에 답하시오.\n",
    "심장병자료는 포도주 소비량과 심장병으로 인한 사망율 사이의 관계를 알아보기 위해 수집한 자료이다.\n",
    "포도주 소비량은 국민 일인당 연간 포도주 소비량으로 단위는 리터이고 사망률은 10만명당 사망자수이다.\n",
    "\n",
    "1. 열 이름을 알아보시오.\n",
    "2. 자료의 수는 얼마인가?\n",
    "3. 결측치가 있는지 알아보시오.\n",
    "4. 포도주 소비량과 심장병으로 인한 사망률의 평균과 표준편차를 계산하시오.\n",
    "4. 포도주 소비량과 심장병으로 인한 사망률 사이의 상관계수를 계산하시오.\n",
    "5. 포도주 소비량과 심장병으로 인한 사망률 사이의 관계를 보기 위한 산점도를 작성하시오.\n",
    "6. 포도주 소비량과 심장병으로 인한 사망률 사이의 관계에 대한 회귀모형을 세우고 분석하시오. "
   ]
  }
 ],
 "metadata": {
  "anaconda-cloud": {},
  "kernelspec": {
   "display_name": "Python 3",
   "language": "python",
   "name": "python3"
  },
  "language_info": {
   "codemirror_mode": {
    "name": "ipython",
    "version": 3
   },
   "file_extension": ".py",
   "mimetype": "text/x-python",
   "name": "python",
   "nbconvert_exporter": "python",
   "pygments_lexer": "ipython3",
   "version": "3.6.3"
  }
 },
 "nbformat": 4,
 "nbformat_minor": 1
}
