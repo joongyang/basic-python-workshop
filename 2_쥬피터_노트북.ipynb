{
 "cells": [
  {
   "cell_type": "markdown",
   "metadata": {},
   "source": [
    "# 쥬피터 노트북(Jupyter Notebook)"
   ]
  },
  {
   "cell_type": "markdown",
   "metadata": {},
   "source": [
    "쥬피터 노트북은 프로그램 코드와 실행 결과, 수식, 그래프를 포함하는 문서를 작성하고 공유할 수 있게 해주는 웹 기반의 응용프로그램이다.\n",
    "(Jupyter는 Julia, Python, R을 조합한 약자이다.)"
   ]
  },
  {
   "cell_type": "markdown",
   "metadata": {},
   "source": [
    "연구자들은 보통 논문이나 보고서 파일, 자료분석 프로그램 파일, 프로그램 실행 결과 파일을 별도로 관리한다.\n",
    "일반적으로 논문이나 보고서에는 자료와 자료분석 프로그램이 거의 포함하지 않다.\n",
    "따라서 논문이나 보고서를 참고하는 사람은 자료분석 과정에 대해 전혀 알지 못하고 분석 결과를 확인할 길이 거의 없다.\n",
    "이런 문제를 해결하기 위해 등장한 개념이 **reproducible research**이며 쥬피터 노트북은 이를 가능하게 해준다.\n",
    "즉 쥬피터 노트북은 논문이나 보고서의 내용, 분석 프로그램, 분석 프로그램 실행 결과를 한 곳에 담을 수 있게 해준다."
   ]
  },
  {
   "cell_type": "markdown",
   "metadata": {},
   "source": [
    "## 쥬피터 노트북 실행 방법"
   ]
  },
  {
   "cell_type": "markdown",
   "metadata": {},
   "source": [
    "1. 명령창이 터미널 프로그램 또는 Anaconda Prompt를 실행한다.\n",
    "2. `cd` 명령으로 문서가 저장되어 있거나 저장할 폴더로 이동한다.\n",
    "3. 다음 명령으로 jupyter notebook을 실행한다.\n",
    "```python\n",
    "C:\\Users\\joongyang> jupyter notebook\n",
    "```\n",
    "4. 기본 웹 브라우저로 설정된 웹 브라우저에 대쉬보드(dashboard)가 나타나면 jupyter notebook을 사용할 수 있다.\n",
    "5. 웹 브라우저를 이용해서 폴더, 텍스트 파일, 쥬피터 노트북을 생성/수정/삭제할 수 있다."
   ]
  },
  {
   "cell_type": "markdown",
   "metadata": {},
   "source": [
    "## 쥬피터 노트북 종료\n",
    "\n",
    "쥬피터 노트북을 실행한 명령창에서 `ctrl+c`를 누른다."
   ]
  },
  {
   "cell_type": "markdown",
   "metadata": {},
   "source": [
    "## 쥬피터 노트북의 기능"
   ]
  },
  {
   "cell_type": "markdown",
   "metadata": {},
   "source": [
    "1. `New` 버턴을 누르고 `Python 3`을 선택하여 새로운 쥬피터 노트북을 생성한다.\n",
    "2. 생성된 쥬피터 노트북을 관리(삭제, 수정, 복사, 이름 변경 등)할 수 있고 다른 형식의 파일로 export할 수 있다.\n",
    "3. 쥬피터 노트북은 셀(cell)로 구성된다.\n",
    "4. 셀은 프로그램 코드를 위한 셀과 문서를 위한 셀 두 종류가 있다.\n",
    "프로그램 코드를 위한 셀의 타입은 `code`이고 문서 작성을 위한 셀의 타입은 `markdown`이다.\n",
    "5. 문서 작성을 위한 셀에는 markdown을 이용하여 문서를 작성하고, 수식은 LaTeX 양식으로 입력한다.\n",
    "6. 프로그램 코드를 위한 셀에는 python 프로그램을 입력한다.\n",
    "7. 셀에 문서나 프로그램 입력한 다음 `ctrl+enter`를 눌러서 셀을 실행한다.\n",
    "8. 셀을 삭제, 수정, 이동할 수 있고, 셀의 타입도 변경할 수 있으며, 셀을 분리하거나 합병할 수도 있다."
   ]
  },
  {
   "cell_type": "markdown",
   "metadata": {},
   "source": [
    "## 커널(kernel)과 R\n",
    "\n",
    "커널은 쥬피터 노트북에 포함된 프로그램을 실행하는 프로그램을 말한다.\n",
    "따라서 커널을 변경하면 파이썬이 아닌 다른 언어로 작성된 프로그램을 쥬피터 노트북에 포함할 수 있다.\n",
    "현재 사용할 수 있는 커널은 목록은 [여기](https://github.com/jupyter/jupyter/wiki/Jupyter-kernels)에 나와 있다."
   ]
  },
  {
   "cell_type": "markdown",
   "metadata": {},
   "source": [
    "쥬피터 노트북에 R 프로그램을 포함하기 위해서는 R을 실행할 때 필요한 파이썬 패키지 `r`과 `r-essentials`를 설치해야 한다.\n",
    "\n",
    "```python\n",
    "C:\\Users\\joongyang> conda install -c r r-essentials\n",
    "```"
   ]
  },
  {
   "cell_type": "markdown",
   "metadata": {},
   "source": [
    "이후에는 쥬피터 노트북 내에서 `install.packages()`, `remove.packages()` 등과 같은 R 명령으로 R 패키지를 관리할 수 있다."
   ]
  },
  {
   "cell_type": "markdown",
   "metadata": {},
   "source": [
    "## 마크다운(markdown)\n",
    "\n",
    "웹의 등장으로 HTML, XML과 같은 markup language가 등장하였지만 이들을 익히고 사용하기까지는 상당한 시간과 노력이 소요된다.\n",
    "무엇보다 그 문서의 내용을 읽기 어렵다는 문제가 있다.\n",
    "이런 문제를 해결하기 위해 등장한 markup language가 마크다운이다.\n",
    "마크다운을 사용하면 간단한 편집기로 상당한 수준의 문서를 만들 수 있으며, 적절한 프로그램을 사용하면 `HTML`, `LaTeX` 파일로 변환할 수도 있다."
   ]
  },
  {
   "cell_type": "markdown",
   "metadata": {},
   "source": [
    "쥬피터 노트북의 문서를 위한 셀의 타입이 마크다운인 이유는 문서를 마크다운으로 작성하기 때문이다.\n",
    "하지만 마크다운 타입의 셀은 HTML tag도 지원한다."
   ]
  },
  {
   "cell_type": "markdown",
   "metadata": {},
   "source": [
    "## 마크다운 문법"
   ]
  },
  {
   "cell_type": "markdown",
   "metadata": {},
   "source": [
    "1. 제목줄: # 기호로 시작한다. #의 개수가 많아지면 글자 크기가 작아진다.\n",
    "2. 한 줄 이상의 빈 줄이 있으면 문단이 바뀐다.\n",
    "3. 밑줄 또는 별표로 감싼 부분은 *이탤릭체*가 된다.\n",
    "4. 두 개의 별표로 감싼 부분은 **굵은 글씨체**가 된다.\n",
    "5. 목록을 만들 때는 목록의 항목을 별표로 시작하는 줄로 기재한다.\n",
    "목록의 각 항목을 들여쓰기 하면 중첩된 목록을 만들 수 있다.\n",
    "    * 항목 1\n",
    "    * 항목 2\n",
    "6. 목록 항목에 일련번호를 붙이고 싶으면 목록의 항목을 별표 대신 정수로 시작하면 된다.\n",
    "이때 정수를 반드시 순서대로 줄 필요는 없다.\n",
    "    3. 항목 1\n",
    "    4. 항목 2\n",
    "7. **url link**를 문서에 포함시키고 싶으면 `[링크이름](url)`라고 하면 된다. 마크다운에 대한 자세한 설명을 보고 싶으면 [여기](http://jupyter-notebook.readthedocs.io/en/stable/examples/Notebook/Working%20With%20Markdown%20Cells.html)나 [여기](https://daringfireball.net/projects/markdown/)를 참조하시오.\n",
    "8. 문서에 이미지를 포함시키고 싶으면 `![이미지에대한텍스트](경로를포함한이미지파일이름)`와 같이 하면 된다.\n",
    "![파이썬 로고](https://www.python.org/static/community_logos/python-logo-master-v3-TM.png)\n",
    "9. 수식은 LaTeX 형식으로 입력한다. 본문의 수식은 \\$로 감싸고 독립적인 수식은 \\$\\$로 감싼다.\n",
    "예를 들어 $x \\in R$에 대해서 다음과 같은 함수를 입력할 수 있다.\n",
    "$$\n",
    "f(x) = ax^2 + bx + c\n",
    "$$\n",
    "\n",
    "10. 표를 작성할 때는 열의 시작과 끝은 **파이프**(`|`)로 표시한다.\n",
    "일반적으로 표의 첫 행은 열 이름이므로 `| 열이름1 | 열이름2 | 열이름3 |`와 같은 방법으로 첫 행을 지정한다.\n",
    "표의 열 이름 다음 줄에는 표라는 것과 각 열의 정렬을 `|:------|------:|:------:|`와 같이 지정할 수 있다. (쥬피터 노트북에서는 정렬에 대한 기정이 제대로 작동하지 않을 수 있다.)\n",
    "각 열의 폭은 자동적으로 결정된다.\n",
    "열의 시작 파이프 다음에 콜론(`:`)을 두면 이 열은 좌측 정렬, 열의 끝을 알리는 파이프 앞에 콜론을 쓰면 해당 열은 우측 정렬한다.\n",
    "만약 열의 시작과 끝 파이프에 모두 콜론을 쓰면 가운데 정렬된다.\n",
    "다음 행 부터는 표에 들어갈 값을 `| 값1 | 값2 | 값3 |`과 같은 방식으로 입력한다.\n",
    "\n",
    "| 이름 | 학과 \n",
    "|-----:|:-----|\n",
    "|박중양|정보통계학과|\n",
    "| 123 | 678.90|\n",
    "\n"
   ]
  },
  {
   "cell_type": "markdown",
   "metadata": {},
   "source": [
    "## 쥬피터 노트북을 다른 형식의 문서로 변환하기"
   ]
  },
  {
   "cell_type": "markdown",
   "metadata": {},
   "source": [
    "쥬피터 노트북은 HTML, TeX 파일로 변환할 수 있다.\n",
    "LaTeX 사용자라면 TeX 파일로 변환하여 pdf 파일을 생성할 수 있다.\n",
    "\n",
    "### HTML 파일로 변환하기\n",
    "\n",
    "명령창에서 아래 명령을 실행하면 쥬피터 노트북을 HTML 파일로 변환할 수 있다.\n",
    "\n",
    "```python\n",
    "C:\\Users\\joongyang> jupyter nbconvert --to html '쥬피터노트북.ipynb'\n",
    "```"
   ]
  },
  {
   "cell_type": "markdown",
   "metadata": {},
   "source": [
    "### 발표용 HTML 파일로 변환하기\n",
    "\n",
    "HTML 파일로 변환할 때와 마찬가지로 `nbconvert`를 이용하면 **발표용 HTML 파일**로 변환할 수 있다.\n",
    "\n",
    "```python\n",
    "C:\\Users\\joongyang> jupyter nbconvert --to slides '쥬피터노트북.ipynb'\n",
    "```\n",
    "\n",
    "`nbpresent` 도구로도 발표용 HTML 파일로 변환할 수 있다.\n",
    "먼저 `nbpresent` 패키지를 다음과 같이 설치해야 한다.\n",
    "\n",
    "```python\n",
    "conda install -c conda-forge nbpresent\n",
    "```\n",
    "\n",
    "그리고 다음 명령으로  **발표용 HTML 파일**로 변환한다.\n",
    "\n",
    "```python\n",
    "C:\\Users\\joongyang> nbpresent -i 쥬피터노트북.ipynb -o 발표자료.html\n",
    "```"
   ]
  },
  {
   "cell_type": "markdown",
   "metadata": {},
   "source": [
    "### MS-Word 파일로 변환하기\n",
    "\n",
    "[pandoc](https://pandoc.org/installing.html)을 이용하면 HTML 파일을 확장자가 docx인 MS-Word 파일로 변환할 수 있다.\n",
    "먼저 pandoc을 설치하고 다음 명령을 주면 된다.\n",
    "\n",
    "```python\n",
    "C:\\Users\\joongyang> pandoc -f html -t docx -o 쥬피터노트북.docx '쥬피터노트북.ipynb'\n",
    "```"
   ]
  },
  {
   "cell_type": "markdown",
   "metadata": {},
   "source": [
    "## 쥬피터 노트북 사용법 연습\n",
    "\n",
    "1. 새로운 쥬피터 노트북을 만들고 이름을 *`쥬피터노트북연습`*으로 변경하시오.\n",
    "2. 마크다운 셀을 하나 추가하고 **쥬피터 노트북 연습: 이미지 추가하기** 제목줄을 입력하시오.\n",
    "3. 인터넷에서 이미지를 하나 내려받아서 쥬피터 노트북이 저장된 폴더에 저장하시오.\n",
    "4. 그 아래에 미크다운 셀을 추가하고 내려받은 이미지를 이 셀에 나타내시오.\n",
    "4. 이미지를 내려받는 대신 이미지의 url을 이용해서 셀에 이미지를 나타내시오.\n",
    "5. 마크다운 셀을 하나 추가하고 **쥬피터 노트북 연습: 목록 만들기** 제목줄을 입력하시오.\n",
    "6. 마크다운 셀을 하나 추가하고 아래 목록을 만드시오.\n",
    "    * 이미지 추가하기\n",
    "    * 목록 만들기\n",
    "    * 수식 입력하기\n",
    "8. 쥬피터 노트북의 셀의 위치를 변경하여 내용의 순서가 목록 바꾸기, 이미지 추가하기가 되도록 하시오.\n",
    "9. 코드 셀을 추가하고 다음 파이썬 프로그램 코드를 입력하고 실행하시오.\n",
    "```python\n",
    "greeting = 'Happy New Year, World!!!!'\n",
    "print(greeting)\n",
    "```\n",
    "10. 마크다운 셀을 만들고 **쥬피터 노트북 연습: 수식 입력하기** 제목줄을 입력하시오.\n",
    "11. 마크다운 셀을 추가하고 다음 수식을 입력하시오.\n",
    "$$\n",
    "f \\left( x | \\mu, \\sigma  \\right) = \\frac{1}{\\sqrt{2 \\pi} \\sigma} \\exp \\left(-\\frac{\\left( x - \\mu  \\right)^2}{2\\sigma^2}\\right)\n",
    "$$\n",
    "12. 코드 셀에 다음 파이썬 프로그램을 입력하고 실행하시오.\n",
    "```python\n",
    "import pandas as pd\n",
    "data = pd.read_csv('metabolism.csv')\n",
    "print(data.info())\n",
    "print(data.head())\n",
    "```\n",
    "7. 마크다운 셀을 추가하고 **쥬피터 노트북 연습: 표 만들기** 제목줄을 입력하고 다음 표를 만드시오.\n",
    "\n",
    "| gender | weight | rate |\n",
    "|:------:|-------:|------:|\n",
    "|F|56.2|1200|\n",
    "|M|72.6|2000|\n",
    "|F|61.23|1667|"
   ]
  }
 ],
 "metadata": {
  "kernelspec": {
   "display_name": "Python [default]",
   "language": "python",
   "name": "python3"
  },
  "language_info": {
   "codemirror_mode": {
    "name": "ipython",
    "version": 3
   },
   "file_extension": ".py",
   "mimetype": "text/x-python",
   "name": "python",
   "nbconvert_exporter": "python",
   "pygments_lexer": "ipython3",
   "version": "3.6.3"
  }
 },
 "nbformat": 4,
 "nbformat_minor": 2
}
